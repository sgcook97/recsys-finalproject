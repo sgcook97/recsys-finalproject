{
  "cells": [
    {
      "cell_type": "markdown",
      "metadata": {},
      "source": [
        "# Anime Recommender"
      ]
    },
    {
      "cell_type": "code",
      "execution_count": 2,
      "metadata": {
        "id": "x8kg5k4n1MEX"
      },
      "outputs": [],
      "source": [
        "import numpy as np\n",
        "import pandas as pd\n",
        "import matplotlib.pyplot as plt\n",
        "import seaborn as sns\n",
        "import json\n",
        "from surprise import AlgoBase, trainset, Dataset, Reader, accuracy, dump, KNNBaseline, BaselineOnly\n",
        "from surprise.prediction_algorithms.predictions import PredictionImpossible\n",
        "from surprise.model_selection import train_test_split, GridSearchCV\n",
        "from surprise.utils import get_rng\n",
        "from operator import itemgetter\n",
        "import pickle\n",
        "import os"
      ]
    },
    {
      "cell_type": "markdown",
      "metadata": {
        "id": "4aELjtgHYD3J"
      },
      "source": [
        "# Model Paths"
      ]
    },
    {
      "cell_type": "code",
      "execution_count": 3,
      "metadata": {
        "id": "Aw5LZv0mYGZZ"
      },
      "outputs": [],
      "source": [
        "sgd_model_path = './models/sgd_model.pkl'\n",
        "knn_model_path = './models/knn_model.pkl'\n",
        "knn_base_model_path = './models/knn_base_model.pkl'\n",
        "als_model_path = './models/als_model.pkl'"
      ]
    },
    {
      "cell_type": "markdown",
      "metadata": {
        "id": "oaKYNiNU1MEb"
      },
      "source": [
        "# Data preprocessing for CF models"
      ]
    },
    {
      "cell_type": "code",
      "execution_count": 4,
      "metadata": {
        "id": "3jDNMpoV1MEc"
      },
      "outputs": [],
      "source": [
        "anime = pd.read_csv('./anime-data/anime.csv')\n",
        "ratings = pd.read_csv('./anime-data/rating.csv')"
      ]
    },
    {
      "cell_type": "code",
      "execution_count": 5,
      "metadata": {
        "id": "kNJByJV6SKlL"
      },
      "outputs": [],
      "source": [
        "ratings = ratings[ratings['rating'] != -1]\n",
        "anime = anime.dropna()"
      ]
    },
    {
      "cell_type": "code",
      "execution_count": 6,
      "metadata": {
        "colab": {
          "base_uri": "https://localhost:8080/",
          "height": 206
        },
        "id": "p3SxBlSKR6H2",
        "outputId": "f13e71a9-c549-4fba-df64-ee371f1dc266"
      },
      "outputs": [
        {
          "data": {
            "text/html": [
              "<div>\n",
              "<style scoped>\n",
              "    .dataframe tbody tr th:only-of-type {\n",
              "        vertical-align: middle;\n",
              "    }\n",
              "\n",
              "    .dataframe tbody tr th {\n",
              "        vertical-align: top;\n",
              "    }\n",
              "\n",
              "    .dataframe thead th {\n",
              "        text-align: right;\n",
              "    }\n",
              "</style>\n",
              "<table border=\"1\" class=\"dataframe\">\n",
              "  <thead>\n",
              "    <tr style=\"text-align: right;\">\n",
              "      <th></th>\n",
              "      <th>user_id</th>\n",
              "      <th>anime_id</th>\n",
              "      <th>rating</th>\n",
              "    </tr>\n",
              "  </thead>\n",
              "  <tbody>\n",
              "    <tr>\n",
              "      <th>47</th>\n",
              "      <td>1</td>\n",
              "      <td>8074</td>\n",
              "      <td>10</td>\n",
              "    </tr>\n",
              "    <tr>\n",
              "      <th>81</th>\n",
              "      <td>1</td>\n",
              "      <td>11617</td>\n",
              "      <td>10</td>\n",
              "    </tr>\n",
              "    <tr>\n",
              "      <th>83</th>\n",
              "      <td>1</td>\n",
              "      <td>11757</td>\n",
              "      <td>10</td>\n",
              "    </tr>\n",
              "    <tr>\n",
              "      <th>101</th>\n",
              "      <td>1</td>\n",
              "      <td>15451</td>\n",
              "      <td>10</td>\n",
              "    </tr>\n",
              "    <tr>\n",
              "      <th>153</th>\n",
              "      <td>2</td>\n",
              "      <td>11771</td>\n",
              "      <td>10</td>\n",
              "    </tr>\n",
              "  </tbody>\n",
              "</table>\n",
              "</div>"
            ],
            "text/plain": [
              "     user_id  anime_id  rating\n",
              "47         1      8074      10\n",
              "81         1     11617      10\n",
              "83         1     11757      10\n",
              "101        1     15451      10\n",
              "153        2     11771      10"
            ]
          },
          "execution_count": 6,
          "metadata": {},
          "output_type": "execute_result"
        }
      ],
      "source": [
        "ratings.head()"
      ]
    },
    {
      "cell_type": "code",
      "execution_count": 7,
      "metadata": {
        "colab": {
          "base_uri": "https://localhost:8080/",
          "height": 206
        },
        "id": "WPFQcw_DW1R6",
        "outputId": "e14c4ff5-027e-4c00-91c3-18752e43c922"
      },
      "outputs": [
        {
          "data": {
            "text/html": [
              "<div>\n",
              "<style scoped>\n",
              "    .dataframe tbody tr th:only-of-type {\n",
              "        vertical-align: middle;\n",
              "    }\n",
              "\n",
              "    .dataframe tbody tr th {\n",
              "        vertical-align: top;\n",
              "    }\n",
              "\n",
              "    .dataframe thead th {\n",
              "        text-align: right;\n",
              "    }\n",
              "</style>\n",
              "<table border=\"1\" class=\"dataframe\">\n",
              "  <thead>\n",
              "    <tr style=\"text-align: right;\">\n",
              "      <th></th>\n",
              "      <th>anime_id</th>\n",
              "      <th>name</th>\n",
              "      <th>genre</th>\n",
              "      <th>type</th>\n",
              "      <th>episodes</th>\n",
              "      <th>rating</th>\n",
              "      <th>members</th>\n",
              "    </tr>\n",
              "  </thead>\n",
              "  <tbody>\n",
              "    <tr>\n",
              "      <th>0</th>\n",
              "      <td>32281</td>\n",
              "      <td>Kimi no Na wa.</td>\n",
              "      <td>Drama, Romance, School, Supernatural</td>\n",
              "      <td>Movie</td>\n",
              "      <td>1</td>\n",
              "      <td>9.37</td>\n",
              "      <td>200630</td>\n",
              "    </tr>\n",
              "    <tr>\n",
              "      <th>1</th>\n",
              "      <td>5114</td>\n",
              "      <td>Fullmetal Alchemist: Brotherhood</td>\n",
              "      <td>Action, Adventure, Drama, Fantasy, Magic, Mili...</td>\n",
              "      <td>TV</td>\n",
              "      <td>64</td>\n",
              "      <td>9.26</td>\n",
              "      <td>793665</td>\n",
              "    </tr>\n",
              "    <tr>\n",
              "      <th>2</th>\n",
              "      <td>28977</td>\n",
              "      <td>Gintama°</td>\n",
              "      <td>Action, Comedy, Historical, Parody, Samurai, S...</td>\n",
              "      <td>TV</td>\n",
              "      <td>51</td>\n",
              "      <td>9.25</td>\n",
              "      <td>114262</td>\n",
              "    </tr>\n",
              "    <tr>\n",
              "      <th>3</th>\n",
              "      <td>9253</td>\n",
              "      <td>Steins;Gate</td>\n",
              "      <td>Sci-Fi, Thriller</td>\n",
              "      <td>TV</td>\n",
              "      <td>24</td>\n",
              "      <td>9.17</td>\n",
              "      <td>673572</td>\n",
              "    </tr>\n",
              "    <tr>\n",
              "      <th>4</th>\n",
              "      <td>9969</td>\n",
              "      <td>Gintama&amp;#039;</td>\n",
              "      <td>Action, Comedy, Historical, Parody, Samurai, S...</td>\n",
              "      <td>TV</td>\n",
              "      <td>51</td>\n",
              "      <td>9.16</td>\n",
              "      <td>151266</td>\n",
              "    </tr>\n",
              "  </tbody>\n",
              "</table>\n",
              "</div>"
            ],
            "text/plain": [
              "   anime_id                              name  \\\n",
              "0     32281                    Kimi no Na wa.   \n",
              "1      5114  Fullmetal Alchemist: Brotherhood   \n",
              "2     28977                          Gintama°   \n",
              "3      9253                       Steins;Gate   \n",
              "4      9969                     Gintama&#039;   \n",
              "\n",
              "                                               genre   type episodes  rating  \\\n",
              "0               Drama, Romance, School, Supernatural  Movie        1    9.37   \n",
              "1  Action, Adventure, Drama, Fantasy, Magic, Mili...     TV       64    9.26   \n",
              "2  Action, Comedy, Historical, Parody, Samurai, S...     TV       51    9.25   \n",
              "3                                   Sci-Fi, Thriller     TV       24    9.17   \n",
              "4  Action, Comedy, Historical, Parody, Samurai, S...     TV       51    9.16   \n",
              "\n",
              "   members  \n",
              "0   200630  \n",
              "1   793665  \n",
              "2   114262  \n",
              "3   673572  \n",
              "4   151266  "
            ]
          },
          "execution_count": 7,
          "metadata": {},
          "output_type": "execute_result"
        }
      ],
      "source": [
        "anime.head()"
      ]
    },
    {
      "cell_type": "code",
      "execution_count": 8,
      "metadata": {
        "id": "OiNZbj4wXDO6"
      },
      "outputs": [],
      "source": [
        "anime = anime.sort_values('anime_id').reset_index(drop=True)"
      ]
    },
    {
      "cell_type": "markdown",
      "metadata": {},
      "source": [
        "# Exploratory data analysis"
      ]
    },
    {
      "cell_type": "code",
      "execution_count": 9,
      "metadata": {
        "colab": {
          "base_uri": "https://localhost:8080/"
        },
        "id": "o148EpXqStl0",
        "outputId": "219952ec-ec79-4557-cd4d-7788d207bfde"
      },
      "outputs": [
        {
          "name": "stdout",
          "output_type": "stream",
          "text": [
            "Number of Ratings: 6337241\n",
            "Number of Anime: 9927\n",
            "Number of Users: 69600\n"
          ]
        }
      ],
      "source": [
        "num_ratings = len(ratings)\n",
        "num_anime = ratings['anime_id'].nunique()\n",
        "num_users = ratings['user_id'].nunique()\n",
        "print(f\"Number of Ratings: {num_ratings}\")\n",
        "print(f\"Number of Anime: {num_anime}\")\n",
        "print(f\"Number of Users: {num_users}\")"
      ]
    },
    {
      "cell_type": "code",
      "execution_count": 10,
      "metadata": {
        "colab": {
          "base_uri": "https://localhost:8080/",
          "height": 206
        },
        "id": "CFojZamgXldp",
        "outputId": "baed723e-bf8d-4ebb-83cc-f9a28e8fc064"
      },
      "outputs": [
        {
          "data": {
            "text/html": [
              "<div>\n",
              "<style scoped>\n",
              "    .dataframe tbody tr th:only-of-type {\n",
              "        vertical-align: middle;\n",
              "    }\n",
              "\n",
              "    .dataframe tbody tr th {\n",
              "        vertical-align: top;\n",
              "    }\n",
              "\n",
              "    .dataframe thead th {\n",
              "        text-align: right;\n",
              "    }\n",
              "</style>\n",
              "<table border=\"1\" class=\"dataframe\">\n",
              "  <thead>\n",
              "    <tr style=\"text-align: right;\">\n",
              "      <th></th>\n",
              "      <th>anime_id</th>\n",
              "      <th>name</th>\n",
              "      <th>genre</th>\n",
              "      <th>type</th>\n",
              "      <th>episodes</th>\n",
              "      <th>rating</th>\n",
              "      <th>members</th>\n",
              "      <th>count</th>\n",
              "      <th>mean</th>\n",
              "    </tr>\n",
              "  </thead>\n",
              "  <tbody>\n",
              "    <tr>\n",
              "      <th>0</th>\n",
              "      <td>1</td>\n",
              "      <td>Cowboy Bebop</td>\n",
              "      <td>Action, Adventure, Comedy, Drama, Sci-Fi, Space</td>\n",
              "      <td>TV</td>\n",
              "      <td>26</td>\n",
              "      <td>8.82</td>\n",
              "      <td>486824</td>\n",
              "      <td>13449</td>\n",
              "      <td>8.869433</td>\n",
              "    </tr>\n",
              "    <tr>\n",
              "      <th>1</th>\n",
              "      <td>5</td>\n",
              "      <td>Cowboy Bebop: Tengoku no Tobira</td>\n",
              "      <td>Action, Drama, Mystery, Sci-Fi, Space</td>\n",
              "      <td>Movie</td>\n",
              "      <td>1</td>\n",
              "      <td>8.40</td>\n",
              "      <td>137636</td>\n",
              "      <td>5790</td>\n",
              "      <td>8.439724</td>\n",
              "    </tr>\n",
              "    <tr>\n",
              "      <th>2</th>\n",
              "      <td>6</td>\n",
              "      <td>Trigun</td>\n",
              "      <td>Action, Comedy, Sci-Fi</td>\n",
              "      <td>TV</td>\n",
              "      <td>26</td>\n",
              "      <td>8.32</td>\n",
              "      <td>283069</td>\n",
              "      <td>9385</td>\n",
              "      <td>8.419393</td>\n",
              "    </tr>\n",
              "    <tr>\n",
              "      <th>3</th>\n",
              "      <td>7</td>\n",
              "      <td>Witch Hunter Robin</td>\n",
              "      <td>Action, Drama, Magic, Mystery, Police, Superna...</td>\n",
              "      <td>TV</td>\n",
              "      <td>26</td>\n",
              "      <td>7.36</td>\n",
              "      <td>64905</td>\n",
              "      <td>2169</td>\n",
              "      <td>7.533426</td>\n",
              "    </tr>\n",
              "    <tr>\n",
              "      <th>4</th>\n",
              "      <td>8</td>\n",
              "      <td>Beet the Vandel Buster</td>\n",
              "      <td>Adventure, Fantasy, Shounen, Supernatural</td>\n",
              "      <td>TV</td>\n",
              "      <td>52</td>\n",
              "      <td>7.06</td>\n",
              "      <td>9848</td>\n",
              "      <td>308</td>\n",
              "      <td>7.198052</td>\n",
              "    </tr>\n",
              "  </tbody>\n",
              "</table>\n",
              "</div>"
            ],
            "text/plain": [
              "   anime_id                             name  \\\n",
              "0         1                     Cowboy Bebop   \n",
              "1         5  Cowboy Bebop: Tengoku no Tobira   \n",
              "2         6                           Trigun   \n",
              "3         7               Witch Hunter Robin   \n",
              "4         8           Beet the Vandel Buster   \n",
              "\n",
              "                                               genre   type episodes  rating  \\\n",
              "0    Action, Adventure, Comedy, Drama, Sci-Fi, Space     TV       26    8.82   \n",
              "1              Action, Drama, Mystery, Sci-Fi, Space  Movie        1    8.40   \n",
              "2                             Action, Comedy, Sci-Fi     TV       26    8.32   \n",
              "3  Action, Drama, Magic, Mystery, Police, Superna...     TV       26    7.36   \n",
              "4          Adventure, Fantasy, Shounen, Supernatural     TV       52    7.06   \n",
              "\n",
              "   members  count      mean  \n",
              "0   486824  13449  8.869433  \n",
              "1   137636   5790  8.439724  \n",
              "2   283069   9385  8.419393  \n",
              "3    64905   2169  7.533426  \n",
              "4     9848    308  7.198052  "
            ]
          },
          "execution_count": 10,
          "metadata": {},
          "output_type": "execute_result"
        }
      ],
      "source": [
        "ratings_stats = ratings.groupby('anime_id')['rating'].agg(['count', 'mean']).reset_index()\n",
        "anime_stats = anime.merge(ratings_stats, on='anime_id')\n",
        "anime_stats.head()"
      ]
    },
    {
      "cell_type": "code",
      "execution_count": 11,
      "metadata": {
        "id": "q-LgPu-9WRCR"
      },
      "outputs": [],
      "source": [
        "v = anime_stats['count']\n",
        "R = anime_stats['mean']\n",
        "C = anime_stats['mean'].mean()\n",
        "# Only consider anime which have 70 percentile or above vote counts\n",
        "m = anime_stats['count'].quantile(0.70)"
      ]
    },
    {
      "cell_type": "code",
      "execution_count": 12,
      "metadata": {
        "id": "ik7gxmf7X2y4"
      },
      "outputs": [],
      "source": [
        "anime_stats['weighted_average'] = ((R*v)+(C*m))/(v+m)"
      ]
    },
    {
      "cell_type": "code",
      "execution_count": 13,
      "metadata": {
        "colab": {
          "base_uri": "https://localhost:8080/",
          "height": 258
        },
        "id": "P2P5DJ_XYCed",
        "outputId": "2d530bf9-bad3-4d6c-a810-f40aba8da6ad"
      },
      "outputs": [
        {
          "data": {
            "text/html": [
              "<div>\n",
              "<style scoped>\n",
              "    .dataframe tbody tr th:only-of-type {\n",
              "        vertical-align: middle;\n",
              "    }\n",
              "\n",
              "    .dataframe tbody tr th {\n",
              "        vertical-align: top;\n",
              "    }\n",
              "\n",
              "    .dataframe thead th {\n",
              "        text-align: right;\n",
              "    }\n",
              "</style>\n",
              "<table border=\"1\" class=\"dataframe\">\n",
              "  <thead>\n",
              "    <tr style=\"text-align: right;\">\n",
              "      <th></th>\n",
              "      <th>anime_id</th>\n",
              "      <th>name</th>\n",
              "      <th>genre</th>\n",
              "      <th>type</th>\n",
              "      <th>episodes</th>\n",
              "      <th>rating</th>\n",
              "      <th>members</th>\n",
              "      <th>count</th>\n",
              "      <th>mean</th>\n",
              "      <th>weighted_average</th>\n",
              "    </tr>\n",
              "  </thead>\n",
              "  <tbody>\n",
              "    <tr>\n",
              "      <th>0</th>\n",
              "      <td>1</td>\n",
              "      <td>Cowboy Bebop</td>\n",
              "      <td>Action, Adventure, Comedy, Drama, Sci-Fi, Space</td>\n",
              "      <td>TV</td>\n",
              "      <td>26</td>\n",
              "      <td>8.82</td>\n",
              "      <td>486824</td>\n",
              "      <td>13449</td>\n",
              "      <td>8.869433</td>\n",
              "      <td>8.827892</td>\n",
              "    </tr>\n",
              "    <tr>\n",
              "      <th>1</th>\n",
              "      <td>5</td>\n",
              "      <td>Cowboy Bebop: Tengoku no Tobira</td>\n",
              "      <td>Action, Drama, Mystery, Sci-Fi, Space</td>\n",
              "      <td>Movie</td>\n",
              "      <td>1</td>\n",
              "      <td>8.40</td>\n",
              "      <td>137636</td>\n",
              "      <td>5790</td>\n",
              "      <td>8.439724</td>\n",
              "      <td>8.363755</td>\n",
              "    </tr>\n",
              "    <tr>\n",
              "      <th>2</th>\n",
              "      <td>6</td>\n",
              "      <td>Trigun</td>\n",
              "      <td>Action, Comedy, Sci-Fi</td>\n",
              "      <td>TV</td>\n",
              "      <td>26</td>\n",
              "      <td>8.32</td>\n",
              "      <td>283069</td>\n",
              "      <td>9385</td>\n",
              "      <td>8.419393</td>\n",
              "      <td>8.372292</td>\n",
              "    </tr>\n",
              "    <tr>\n",
              "      <th>3</th>\n",
              "      <td>7</td>\n",
              "      <td>Witch Hunter Robin</td>\n",
              "      <td>Action, Drama, Magic, Mystery, Police, Superna...</td>\n",
              "      <td>TV</td>\n",
              "      <td>26</td>\n",
              "      <td>7.36</td>\n",
              "      <td>64905</td>\n",
              "      <td>2169</td>\n",
              "      <td>7.533426</td>\n",
              "      <td>7.439696</td>\n",
              "    </tr>\n",
              "    <tr>\n",
              "      <th>4</th>\n",
              "      <td>8</td>\n",
              "      <td>Beet the Vandel Buster</td>\n",
              "      <td>Adventure, Fantasy, Shounen, Supernatural</td>\n",
              "      <td>TV</td>\n",
              "      <td>52</td>\n",
              "      <td>7.06</td>\n",
              "      <td>9848</td>\n",
              "      <td>308</td>\n",
              "      <td>7.198052</td>\n",
              "      <td>6.947276</td>\n",
              "    </tr>\n",
              "  </tbody>\n",
              "</table>\n",
              "</div>"
            ],
            "text/plain": [
              "   anime_id                             name  \\\n",
              "0         1                     Cowboy Bebop   \n",
              "1         5  Cowboy Bebop: Tengoku no Tobira   \n",
              "2         6                           Trigun   \n",
              "3         7               Witch Hunter Robin   \n",
              "4         8           Beet the Vandel Buster   \n",
              "\n",
              "                                               genre   type episodes  rating  \\\n",
              "0    Action, Adventure, Comedy, Drama, Sci-Fi, Space     TV       26    8.82   \n",
              "1              Action, Drama, Mystery, Sci-Fi, Space  Movie        1    8.40   \n",
              "2                             Action, Comedy, Sci-Fi     TV       26    8.32   \n",
              "3  Action, Drama, Magic, Mystery, Police, Superna...     TV       26    7.36   \n",
              "4          Adventure, Fantasy, Shounen, Supernatural     TV       52    7.06   \n",
              "\n",
              "   members  count      mean  weighted_average  \n",
              "0   486824  13449  8.869433          8.827892  \n",
              "1   137636   5790  8.439724          8.363755  \n",
              "2   283069   9385  8.419393          8.372292  \n",
              "3    64905   2169  7.533426          7.439696  \n",
              "4     9848    308  7.198052          6.947276  "
            ]
          },
          "execution_count": 13,
          "metadata": {},
          "output_type": "execute_result"
        }
      ],
      "source": [
        "anime_stats.head()"
      ]
    },
    {
      "cell_type": "markdown",
      "metadata": {},
      "source": [
        "### Avg ratings distribution"
      ]
    },
    {
      "cell_type": "code",
      "execution_count": 14,
      "metadata": {
        "colab": {
          "base_uri": "https://localhost:8080/",
          "height": 206
        },
        "id": "vsh5vK9SZJB5",
        "outputId": "76f9a4aa-5ecb-4797-fed2-f09b413dd3c8"
      },
      "outputs": [
        {
          "data": {
            "text/html": [
              "<div>\n",
              "<style scoped>\n",
              "    .dataframe tbody tr th:only-of-type {\n",
              "        vertical-align: middle;\n",
              "    }\n",
              "\n",
              "    .dataframe tbody tr th {\n",
              "        vertical-align: top;\n",
              "    }\n",
              "\n",
              "    .dataframe thead th {\n",
              "        text-align: right;\n",
              "    }\n",
              "</style>\n",
              "<table border=\"1\" class=\"dataframe\">\n",
              "  <thead>\n",
              "    <tr style=\"text-align: right;\">\n",
              "      <th></th>\n",
              "      <th>anime_id</th>\n",
              "      <th>weighted_average</th>\n",
              "    </tr>\n",
              "  </thead>\n",
              "  <tbody>\n",
              "    <tr>\n",
              "      <th>0</th>\n",
              "      <td>1</td>\n",
              "      <td>8.827892</td>\n",
              "    </tr>\n",
              "    <tr>\n",
              "      <th>1</th>\n",
              "      <td>5</td>\n",
              "      <td>8.363755</td>\n",
              "    </tr>\n",
              "    <tr>\n",
              "      <th>2</th>\n",
              "      <td>6</td>\n",
              "      <td>8.372292</td>\n",
              "    </tr>\n",
              "    <tr>\n",
              "      <th>3</th>\n",
              "      <td>7</td>\n",
              "      <td>7.439696</td>\n",
              "    </tr>\n",
              "    <tr>\n",
              "      <th>4</th>\n",
              "      <td>8</td>\n",
              "      <td>6.947276</td>\n",
              "    </tr>\n",
              "  </tbody>\n",
              "</table>\n",
              "</div>"
            ],
            "text/plain": [
              "   anime_id  weighted_average\n",
              "0         1          8.827892\n",
              "1         5          8.363755\n",
              "2         6          8.372292\n",
              "3         7          7.439696\n",
              "4         8          6.947276"
            ]
          },
          "execution_count": 14,
          "metadata": {},
          "output_type": "execute_result"
        }
      ],
      "source": [
        "tmp = anime_stats[['anime_id', 'weighted_average']].reset_index(drop=True)\n",
        "tmp.head()"
      ]
    },
    {
      "cell_type": "code",
      "execution_count": 15,
      "metadata": {},
      "outputs": [
        {
          "data": {
            "text/plain": [
              "count    9892.000000\n",
              "mean        6.873027\n",
              "std         0.449980\n",
              "min         3.305675\n",
              "25%         6.627486\n",
              "50%         6.663813\n",
              "75%         6.985079\n",
              "max         9.291231\n",
              "Name: weighted_average, dtype: float64"
            ]
          },
          "execution_count": 15,
          "metadata": {},
          "output_type": "execute_result"
        }
      ],
      "source": [
        "tmp['weighted_average'].describe()"
      ]
    },
    {
      "cell_type": "code",
      "execution_count": 16,
      "metadata": {
        "colab": {
          "base_uri": "https://localhost:8080/",
          "height": 490
        },
        "id": "eadAPWgtYdM0",
        "outputId": "310b0db3-a8ba-43ac-f5e3-af7fdc02a408"
      },
      "outputs": [
        {
          "data": {
            "text/plain": [
              "Text(0.5, 1.0, 'Avg rating for items distribution')"
            ]
          },
          "execution_count": 16,
          "metadata": {},
          "output_type": "execute_result"
        },
        {
          "data": {
            "image/png": "[encoded data removed]",
            "text/plain": [
              "<Figure size 640x480 with 1 Axes>"
            ]
          },
          "metadata": {},
          "output_type": "display_data"
        }
      ],
      "source": [
        "plt.hist(tmp['weighted_average'], bins=10, edgecolor='white')\n",
        "plt.xlabel('Rating')\n",
        "plt.ylabel('Frequency')\n",
        "plt.title(\"Avg rating for items distribution\")"
      ]
    },
    {
      "cell_type": "markdown",
      "metadata": {},
      "source": [
        "### Item popularity curve"
      ]
    },
    {
      "cell_type": "code",
      "execution_count": 17,
      "metadata": {
        "colab": {
          "base_uri": "https://localhost:8080/",
          "height": 206
        },
        "id": "dJ2jKXzlbKas",
        "outputId": "d2ed9f60-f32f-4ed2-99fd-ab6649055ad0"
      },
      "outputs": [
        {
          "data": {
            "text/html": [
              "<div>\n",
              "<style scoped>\n",
              "    .dataframe tbody tr th:only-of-type {\n",
              "        vertical-align: middle;\n",
              "    }\n",
              "\n",
              "    .dataframe tbody tr th {\n",
              "        vertical-align: top;\n",
              "    }\n",
              "\n",
              "    .dataframe thead th {\n",
              "        text-align: right;\n",
              "    }\n",
              "</style>\n",
              "<table border=\"1\" class=\"dataframe\">\n",
              "  <thead>\n",
              "    <tr style=\"text-align: right;\">\n",
              "      <th></th>\n",
              "      <th>rank</th>\n",
              "      <th>count</th>\n",
              "    </tr>\n",
              "  </thead>\n",
              "  <tbody>\n",
              "    <tr>\n",
              "      <th>1388</th>\n",
              "      <td>1</td>\n",
              "      <td>34226</td>\n",
              "    </tr>\n",
              "    <tr>\n",
              "      <th>6322</th>\n",
              "      <td>2</td>\n",
              "      <td>26310</td>\n",
              "    </tr>\n",
              "    <tr>\n",
              "      <th>7058</th>\n",
              "      <td>3</td>\n",
              "      <td>25290</td>\n",
              "    </tr>\n",
              "    <tr>\n",
              "      <th>1426</th>\n",
              "      <td>4</td>\n",
              "      <td>24126</td>\n",
              "    </tr>\n",
              "    <tr>\n",
              "      <th>4567</th>\n",
              "      <td>5</td>\n",
              "      <td>23565</td>\n",
              "    </tr>\n",
              "  </tbody>\n",
              "</table>\n",
              "</div>"
            ],
            "text/plain": [
              "      rank  count\n",
              "1388     1  34226\n",
              "6322     2  26310\n",
              "7058     3  25290\n",
              "1426     4  24126\n",
              "4567     5  23565"
            ]
          },
          "execution_count": 17,
          "metadata": {},
          "output_type": "execute_result"
        }
      ],
      "source": [
        "tmp2 = anime_stats[['anime_id', 'count']].reset_index(drop=True)\n",
        "tmp2=tmp2.sort_values(by=['count'],ascending=False)\n",
        "tmp2.insert(0, 'rank', range(1, 1 + len(tmp2)))\n",
        "tmp2.drop('anime_id', axis=1, inplace=True)\n",
        "tmp2.head()"
      ]
    },
    {
      "cell_type": "code",
      "execution_count": 18,
      "metadata": {},
      "outputs": [
        {
          "data": {
            "text/plain": [
              "count     9892.000000\n",
              "mean       640.633441\n",
              "std       1798.641286\n",
              "min          1.000000\n",
              "25%          9.000000\n",
              "50%         57.000000\n",
              "75%        398.250000\n",
              "max      34226.000000\n",
              "Name: count, dtype: float64"
            ]
          },
          "execution_count": 18,
          "metadata": {},
          "output_type": "execute_result"
        }
      ],
      "source": [
        "tmp2['count'].describe()"
      ]
    },
    {
      "cell_type": "code",
      "execution_count": 19,
      "metadata": {
        "colab": {
          "base_uri": "https://localhost:8080/",
          "height": 293
        },
        "id": "cP_gLzJHbxut",
        "outputId": "e92fe63d-f536-4b07-fd34-51ab91bed4ff"
      },
      "outputs": [
        {
          "data": {
            "text/plain": [
              "Text(0.5, 1.0, 'Item popularity curve')"
            ]
          },
          "execution_count": 19,
          "metadata": {},
          "output_type": "execute_result"
        },
        {
          "data": {
            "image/png": "[encoded data removed]",
            "text/plain": [
              "<Figure size 640x480 with 1 Axes>"
            ]
          },
          "metadata": {},
          "output_type": "display_data"
        }
      ],
      "source": [
        "fig = plt.figure()\n",
        "ax = fig.add_subplot(2, 1, 1)\n",
        "\n",
        "line = ax.plot(tmp2['rank'],tmp2['count'],color='blue')\n",
        "ax.set_yscale('log')\n",
        "ax.set_xscale('log')\n",
        "plt.xlabel('log rank')\n",
        "plt.ylabel('log # of ratings')\n",
        "plt.title(\"Item popularity curve\")"
      ]
    },
    {
      "cell_type": "markdown",
      "metadata": {},
      "source": [
        "### User rating frequency"
      ]
    },
    {
      "cell_type": "code",
      "execution_count": 20,
      "metadata": {},
      "outputs": [
        {
          "data": {
            "text/html": [
              "<div>\n",
              "<style scoped>\n",
              "    .dataframe tbody tr th:only-of-type {\n",
              "        vertical-align: middle;\n",
              "    }\n",
              "\n",
              "    .dataframe tbody tr th {\n",
              "        vertical-align: top;\n",
              "    }\n",
              "\n",
              "    .dataframe thead th {\n",
              "        text-align: right;\n",
              "    }\n",
              "</style>\n",
              "<table border=\"1\" class=\"dataframe\">\n",
              "  <thead>\n",
              "    <tr style=\"text-align: right;\">\n",
              "      <th></th>\n",
              "      <th>rank</th>\n",
              "      <th>count</th>\n",
              "    </tr>\n",
              "  </thead>\n",
              "  <tbody>\n",
              "    <tr>\n",
              "      <th>40277</th>\n",
              "      <td>1</td>\n",
              "      <td>3747</td>\n",
              "    </tr>\n",
              "    <tr>\n",
              "      <th>50822</th>\n",
              "      <td>2</td>\n",
              "      <td>2905</td>\n",
              "    </tr>\n",
              "    <tr>\n",
              "      <th>54550</th>\n",
              "      <td>3</td>\n",
              "      <td>2689</td>\n",
              "    </tr>\n",
              "    <tr>\n",
              "      <th>56512</th>\n",
              "      <td>4</td>\n",
              "      <td>2632</td>\n",
              "    </tr>\n",
              "    <tr>\n",
              "      <th>48906</th>\n",
              "      <td>5</td>\n",
              "      <td>2621</td>\n",
              "    </tr>\n",
              "  </tbody>\n",
              "</table>\n",
              "</div>"
            ],
            "text/plain": [
              "       rank  count\n",
              "40277     1   3747\n",
              "50822     2   2905\n",
              "54550     3   2689\n",
              "56512     4   2632\n",
              "48906     5   2621"
            ]
          },
          "execution_count": 20,
          "metadata": {},
          "output_type": "execute_result"
        }
      ],
      "source": [
        "tmp3 = ratings.groupby('user_id')['rating'].agg('count').reset_index()\n",
        "tmp3.columns = ['user_id', 'count']\n",
        "tmp3=tmp3.sort_values(by=['count'],ascending=False)\n",
        "tmp3.insert(0, 'rank', range(1, 1 + len(tmp3)))\n",
        "tmp3.drop('user_id', axis=1, inplace=True)\n",
        "tmp3.head()"
      ]
    },
    {
      "cell_type": "code",
      "execution_count": 21,
      "metadata": {},
      "outputs": [
        {
          "data": {
            "text/plain": [
              "count    69600.000000\n",
              "mean        91.052313\n",
              "std        135.764253\n",
              "min          1.000000\n",
              "25%         13.000000\n",
              "50%         45.000000\n",
              "75%        114.000000\n",
              "max       3747.000000\n",
              "Name: count, dtype: float64"
            ]
          },
          "execution_count": 21,
          "metadata": {},
          "output_type": "execute_result"
        }
      ],
      "source": [
        "tmp3['count'].describe()"
      ]
    },
    {
      "cell_type": "code",
      "execution_count": 22,
      "metadata": {},
      "outputs": [
        {
          "data": {
            "text/plain": [
              "Text(0.5, 1.0, 'User rating frequency curve')"
            ]
          },
          "execution_count": 22,
          "metadata": {},
          "output_type": "execute_result"
        },
        {
          "data": {
            "image/png": "[encoded data removed]",
            "text/plain": [
              "<Figure size 640x480 with 1 Axes>"
            ]
          },
          "metadata": {},
          "output_type": "display_data"
        }
      ],
      "source": [
        "fig = plt.figure()\n",
        "ax = fig.add_subplot(2, 1, 1)\n",
        "\n",
        "line = ax.plot(tmp3['rank'],tmp3['count'],color='blue')\n",
        "ax.set_yscale('log')\n",
        "ax.set_xscale('log')\n",
        "plt.xlabel('log rank')\n",
        "plt.ylabel('log # of ratings')\n",
        "plt.title(\"User rating frequency curve\")"
      ]
    },
    {
      "cell_type": "markdown",
      "metadata": {
        "id": "ECreNQhcM2xr"
      },
      "source": [
        "## Filter ratings based on analysis"
      ]
    },
    {
      "cell_type": "code",
      "execution_count": 23,
      "metadata": {
        "id": "GZXyruviXaXA"
      },
      "outputs": [],
      "source": [
        "filt_anime = ratings['anime_id'].value_counts() > 60\n",
        "filt_anime = filt_anime[filt_anime].index.tolist()\n",
        "\n",
        "filt_user = ratings['user_id'].value_counts() > 40\n",
        "filt_user2 = ratings['user_id'].value_counts() < 250\n",
        "filt_user = filt_user[filt_user == filt_user2].index.tolist()\n",
        "\n",
        "filt_ratings = ratings[(ratings['anime_id'].isin(filt_anime)) & (ratings['user_id'].isin(filt_user))].reset_index(drop=True)"
      ]
    },
    {
      "cell_type": "code",
      "execution_count": 24,
      "metadata": {
        "colab": {
          "base_uri": "https://localhost:8080/",
          "height": 206
        },
        "id": "4hRsak9HtdyO",
        "outputId": "a228ba34-a732-43a9-e2da-292f2f8220c9"
      },
      "outputs": [
        {
          "data": {
            "text/html": [
              "<div>\n",
              "<style scoped>\n",
              "    .dataframe tbody tr th:only-of-type {\n",
              "        vertical-align: middle;\n",
              "    }\n",
              "\n",
              "    .dataframe tbody tr th {\n",
              "        vertical-align: top;\n",
              "    }\n",
              "\n",
              "    .dataframe thead th {\n",
              "        text-align: right;\n",
              "    }\n",
              "</style>\n",
              "<table border=\"1\" class=\"dataframe\">\n",
              "  <thead>\n",
              "    <tr style=\"text-align: right;\">\n",
              "      <th></th>\n",
              "      <th>anime_id</th>\n",
              "      <th>name</th>\n",
              "      <th>genre</th>\n",
              "      <th>type</th>\n",
              "      <th>episodes</th>\n",
              "      <th>rating</th>\n",
              "      <th>members</th>\n",
              "      <th>count</th>\n",
              "      <th>mean</th>\n",
              "    </tr>\n",
              "  </thead>\n",
              "  <tbody>\n",
              "    <tr>\n",
              "      <th>0</th>\n",
              "      <td>1</td>\n",
              "      <td>Cowboy Bebop</td>\n",
              "      <td>Action, Adventure, Comedy, Drama, Sci-Fi, Space</td>\n",
              "      <td>TV</td>\n",
              "      <td>26</td>\n",
              "      <td>8.82</td>\n",
              "      <td>486824</td>\n",
              "      <td>8156</td>\n",
              "      <td>8.875061</td>\n",
              "    </tr>\n",
              "    <tr>\n",
              "      <th>1</th>\n",
              "      <td>5</td>\n",
              "      <td>Cowboy Bebop: Tengoku no Tobira</td>\n",
              "      <td>Action, Drama, Mystery, Sci-Fi, Space</td>\n",
              "      <td>Movie</td>\n",
              "      <td>1</td>\n",
              "      <td>8.40</td>\n",
              "      <td>137636</td>\n",
              "      <td>3463</td>\n",
              "      <td>8.459428</td>\n",
              "    </tr>\n",
              "    <tr>\n",
              "      <th>2</th>\n",
              "      <td>6</td>\n",
              "      <td>Trigun</td>\n",
              "      <td>Action, Comedy, Sci-Fi</td>\n",
              "      <td>TV</td>\n",
              "      <td>26</td>\n",
              "      <td>8.32</td>\n",
              "      <td>283069</td>\n",
              "      <td>5638</td>\n",
              "      <td>8.432778</td>\n",
              "    </tr>\n",
              "    <tr>\n",
              "      <th>3</th>\n",
              "      <td>7</td>\n",
              "      <td>Witch Hunter Robin</td>\n",
              "      <td>Action, Drama, Magic, Mystery, Police, Superna...</td>\n",
              "      <td>TV</td>\n",
              "      <td>26</td>\n",
              "      <td>7.36</td>\n",
              "      <td>64905</td>\n",
              "      <td>1134</td>\n",
              "      <td>7.593474</td>\n",
              "    </tr>\n",
              "    <tr>\n",
              "      <th>4</th>\n",
              "      <td>8</td>\n",
              "      <td>Beet the Vandel Buster</td>\n",
              "      <td>Adventure, Fantasy, Shounen, Supernatural</td>\n",
              "      <td>TV</td>\n",
              "      <td>52</td>\n",
              "      <td>7.06</td>\n",
              "      <td>9848</td>\n",
              "      <td>129</td>\n",
              "      <td>7.232558</td>\n",
              "    </tr>\n",
              "  </tbody>\n",
              "</table>\n",
              "</div>"
            ],
            "text/plain": [
              "   anime_id                             name  \\\n",
              "0         1                     Cowboy Bebop   \n",
              "1         5  Cowboy Bebop: Tengoku no Tobira   \n",
              "2         6                           Trigun   \n",
              "3         7               Witch Hunter Robin   \n",
              "4         8           Beet the Vandel Buster   \n",
              "\n",
              "                                               genre   type episodes  rating  \\\n",
              "0    Action, Adventure, Comedy, Drama, Sci-Fi, Space     TV       26    8.82   \n",
              "1              Action, Drama, Mystery, Sci-Fi, Space  Movie        1    8.40   \n",
              "2                             Action, Comedy, Sci-Fi     TV       26    8.32   \n",
              "3  Action, Drama, Magic, Mystery, Police, Superna...     TV       26    7.36   \n",
              "4          Adventure, Fantasy, Shounen, Supernatural     TV       52    7.06   \n",
              "\n",
              "   members  count      mean  \n",
              "0   486824   8156  8.875061  \n",
              "1   137636   3463  8.459428  \n",
              "2   283069   5638  8.432778  \n",
              "3    64905   1134  7.593474  \n",
              "4     9848    129  7.232558  "
            ]
          },
          "execution_count": 24,
          "metadata": {},
          "output_type": "execute_result"
        }
      ],
      "source": [
        "filt_ratings_stats = filt_ratings.groupby('anime_id')['rating'].agg(['count', 'mean']).reset_index()\n",
        "filt_anime_stats = anime.merge(filt_ratings_stats, on='anime_id')\n",
        "filt_anime_stats.head()"
      ]
    },
    {
      "cell_type": "code",
      "execution_count": 25,
      "metadata": {
        "id": "vq5EZj6Gs_8o"
      },
      "outputs": [],
      "source": [
        "v = filt_anime_stats['count']\n",
        "R = filt_anime_stats['mean']\n",
        "C = filt_anime_stats['mean'].mean()\n",
        "# Only consider anime which have 70 percentile or above vote counts\n",
        "m = filt_anime_stats['count'].quantile(0.70)"
      ]
    },
    {
      "cell_type": "code",
      "execution_count": 26,
      "metadata": {
        "id": "BvOqGw9eM13e"
      },
      "outputs": [],
      "source": [
        "filt_anime_stats['weighted_average'] = ((R*v)+(C*m))/(v+m)"
      ]
    },
    {
      "cell_type": "markdown",
      "metadata": {},
      "source": [
        "### Avg ratings distribution"
      ]
    },
    {
      "cell_type": "code",
      "execution_count": 27,
      "metadata": {
        "id": "vQLmcqDjNLFb"
      },
      "outputs": [],
      "source": [
        "filt_tmp = filt_anime_stats[['anime_id', 'weighted_average']].reset_index(drop=True)"
      ]
    },
    {
      "cell_type": "code",
      "execution_count": 28,
      "metadata": {
        "colab": {
          "base_uri": "https://localhost:8080/",
          "height": 490
        },
        "id": "Dwlel4KqNU0s",
        "outputId": "05c05690-9e7a-4e66-bd17-c766ed91523a"
      },
      "outputs": [
        {
          "data": {
            "text/plain": [
              "Text(0.5, 1.0, 'Avg rating for items distribution')"
            ]
          },
          "execution_count": 28,
          "metadata": {},
          "output_type": "execute_result"
        },
        {
          "data": {
            "image/png": "[encoded data removed]",
            "text/plain": [
              "<Figure size 640x480 with 1 Axes>"
            ]
          },
          "metadata": {},
          "output_type": "display_data"
        }
      ],
      "source": [
        "plt.hist(filt_tmp['weighted_average'], bins=10, edgecolor='white')\n",
        "plt.xlabel('Rating')\n",
        "plt.ylabel('Frequency')\n",
        "plt.title(\"Avg rating for items distribution\")"
      ]
    },
    {
      "cell_type": "markdown",
      "metadata": {},
      "source": [
        "### Item popularity curve"
      ]
    },
    {
      "cell_type": "code",
      "execution_count": 29,
      "metadata": {
        "id": "fJsNfeHKNZ_s"
      },
      "outputs": [],
      "source": [
        "filt_tmp2 = anime_stats[['anime_id', 'count']].reset_index(drop=True)\n",
        "filt_tmp2=filt_tmp2.sort_values(by=['count'],ascending=False)\n",
        "filt_tmp2.insert(0, 'rank', range(1, 1 + len(filt_tmp2)))\n",
        "filt_tmp2.drop('anime_id', axis=1, inplace=True)"
      ]
    },
    {
      "cell_type": "code",
      "execution_count": 30,
      "metadata": {
        "colab": {
          "base_uri": "https://localhost:8080/",
          "height": 293
        },
        "id": "75jtTvc7NgeG",
        "outputId": "f5e4df79-e797-4d2b-e777-b308a6724a7b"
      },
      "outputs": [
        {
          "data": {
            "text/plain": [
              "Text(0.5, 1.0, 'Item popularity curve')"
            ]
          },
          "execution_count": 30,
          "metadata": {},
          "output_type": "execute_result"
        },
        {
          "data": {
            "image/png": "[encoded data removed]",
            "text/plain": [
              "<Figure size 640x480 with 1 Axes>"
            ]
          },
          "metadata": {},
          "output_type": "display_data"
        }
      ],
      "source": [
        "fig = plt.figure()\n",
        "ax = fig.add_subplot(2, 1, 1)\n",
        "\n",
        "line = ax.plot(filt_tmp2['rank'],filt_tmp2['count'],color='blue')\n",
        "ax.set_yscale('log')\n",
        "ax.set_xscale('log')\n",
        "plt.xlabel('log rank')\n",
        "plt.ylabel('log # of ratings')\n",
        "plt.title(\"Item popularity curve\")"
      ]
    },
    {
      "cell_type": "markdown",
      "metadata": {},
      "source": [
        "### User rating frequency"
      ]
    },
    {
      "cell_type": "code",
      "execution_count": 31,
      "metadata": {},
      "outputs": [
        {
          "data": {
            "text/html": [
              "<div>\n",
              "<style scoped>\n",
              "    .dataframe tbody tr th:only-of-type {\n",
              "        vertical-align: middle;\n",
              "    }\n",
              "\n",
              "    .dataframe tbody tr th {\n",
              "        vertical-align: top;\n",
              "    }\n",
              "\n",
              "    .dataframe thead th {\n",
              "        text-align: right;\n",
              "    }\n",
              "</style>\n",
              "<table border=\"1\" class=\"dataframe\">\n",
              "  <thead>\n",
              "    <tr style=\"text-align: right;\">\n",
              "      <th></th>\n",
              "      <th>rank</th>\n",
              "      <th>count</th>\n",
              "    </tr>\n",
              "  </thead>\n",
              "  <tbody>\n",
              "    <tr>\n",
              "      <th>26359</th>\n",
              "      <td>1</td>\n",
              "      <td>249</td>\n",
              "    </tr>\n",
              "    <tr>\n",
              "      <th>26092</th>\n",
              "      <td>2</td>\n",
              "      <td>249</td>\n",
              "    </tr>\n",
              "    <tr>\n",
              "      <th>8190</th>\n",
              "      <td>3</td>\n",
              "      <td>249</td>\n",
              "    </tr>\n",
              "    <tr>\n",
              "      <th>688</th>\n",
              "      <td>4</td>\n",
              "      <td>249</td>\n",
              "    </tr>\n",
              "    <tr>\n",
              "      <th>20122</th>\n",
              "      <td>5</td>\n",
              "      <td>249</td>\n",
              "    </tr>\n",
              "  </tbody>\n",
              "</table>\n",
              "</div>"
            ],
            "text/plain": [
              "       rank  count\n",
              "26359     1    249\n",
              "26092     2    249\n",
              "8190      3    249\n",
              "688       4    249\n",
              "20122     5    249"
            ]
          },
          "execution_count": 31,
          "metadata": {},
          "output_type": "execute_result"
        }
      ],
      "source": [
        "filt_tmp3 = filt_ratings.groupby('user_id')['rating'].agg('count').reset_index()\n",
        "filt_tmp3.columns = ['user_id', 'count']\n",
        "filt_tmp3=filt_tmp3.sort_values(by=['count'],ascending=False)\n",
        "filt_tmp3.insert(0, 'rank', range(1, 1 + len(filt_tmp3)))\n",
        "filt_tmp3.drop('user_id', axis=1, inplace=True)\n",
        "filt_tmp3.head()"
      ]
    },
    {
      "cell_type": "code",
      "execution_count": 32,
      "metadata": {},
      "outputs": [
        {
          "data": {
            "text/plain": [
              "count    30393.000000\n",
              "mean       106.587668\n",
              "std         53.956151\n",
              "min         10.000000\n",
              "25%         62.000000\n",
              "50%         92.000000\n",
              "75%        142.000000\n",
              "max        249.000000\n",
              "Name: count, dtype: float64"
            ]
          },
          "execution_count": 32,
          "metadata": {},
          "output_type": "execute_result"
        }
      ],
      "source": [
        "filt_tmp3['count'].describe()"
      ]
    },
    {
      "cell_type": "code",
      "execution_count": 33,
      "metadata": {},
      "outputs": [
        {
          "data": {
            "text/plain": [
              "Text(0.5, 1.0, 'User rating frequency curve')"
            ]
          },
          "execution_count": 33,
          "metadata": {},
          "output_type": "execute_result"
        },
        {
          "data": {
            "image/png": "[encoded data removed]",
            "text/plain": [
              "<Figure size 640x480 with 1 Axes>"
            ]
          },
          "metadata": {},
          "output_type": "display_data"
        }
      ],
      "source": [
        "fig = plt.figure()\n",
        "ax = fig.add_subplot(2, 1, 1)\n",
        "\n",
        "line = ax.plot(filt_tmp3['rank'],filt_tmp3['count'],color='blue')\n",
        "ax.set_yscale('log')\n",
        "ax.set_xscale('log')\n",
        "plt.xlabel('rank')\n",
        "plt.ylabel('# of ratings')\n",
        "plt.title(\"User rating frequency curve\")"
      ]
    },
    {
      "cell_type": "markdown",
      "metadata": {
        "id": "EiAKYn8TOp0h"
      },
      "source": [
        "# Data preprocessing for content based model"
      ]
    },
    {
      "cell_type": "code",
      "execution_count": 34,
      "metadata": {
        "id": "S0eve2LHOxK_"
      },
      "outputs": [],
      "source": [
        "anime_features = anime.drop(anime.loc[anime['genre'].isna()].index).reset_index(drop=True)\n",
        "anime_features['genre'] = anime_features['genre'].apply(lambda x: x.split(\",\"))"
      ]
    },
    {
      "cell_type": "code",
      "execution_count": 35,
      "metadata": {
        "id": "2DfcJnB6O_Ap"
      },
      "outputs": [],
      "source": [
        "from collections import Counter\n",
        "\n",
        "genres_counts = Counter(g for genres in anime_features['genre'] for g in genres)\n",
        "genres = list(genres_counts.keys())\n",
        "for g in genres:\n",
        "    anime_features[g] = anime_features['genre'].transform(lambda x: int(g in x))\n",
        "\n",
        "type_list = list(anime_features['type'].unique())\n",
        "for t in type_list:\n",
        "    anime_features[t] = anime_features['type'].transform(lambda x: int(t == x))\n",
        "\n",
        "anime_features = anime_features.drop(['name', 'genre', 'type', 'episodes', 'rating', 'members'], axis=1)\n",
        "anime_features = anime_features.set_index('anime_id')"
      ]
    },
    {
      "cell_type": "code",
      "execution_count": 36,
      "metadata": {
        "colab": {
          "base_uri": "https://localhost:8080/",
          "height": 0
        },
        "id": "tFQIf-v6PCo_",
        "outputId": "b0bb2322-e869-459e-8e48-a9c04bc22be8"
      },
      "outputs": [
        {
          "data": {
            "text/html": [
              "<div>\n",
              "<style scoped>\n",
              "    .dataframe tbody tr th:only-of-type {\n",
              "        vertical-align: middle;\n",
              "    }\n",
              "\n",
              "    .dataframe tbody tr th {\n",
              "        vertical-align: top;\n",
              "    }\n",
              "\n",
              "    .dataframe thead th {\n",
              "        text-align: right;\n",
              "    }\n",
              "</style>\n",
              "<table border=\"1\" class=\"dataframe\">\n",
              "  <thead>\n",
              "    <tr style=\"text-align: right;\">\n",
              "      <th></th>\n",
              "      <th>Action</th>\n",
              "      <th>Adventure</th>\n",
              "      <th>Comedy</th>\n",
              "      <th>Drama</th>\n",
              "      <th>Sci-Fi</th>\n",
              "      <th>Space</th>\n",
              "      <th>Mystery</th>\n",
              "      <th>Magic</th>\n",
              "      <th>Police</th>\n",
              "      <th>Supernatural</th>\n",
              "      <th>...</th>\n",
              "      <th>Seinen</th>\n",
              "      <th>Josei</th>\n",
              "      <th>Thriller</th>\n",
              "      <th>Police</th>\n",
              "      <th>Space</th>\n",
              "      <th>TV</th>\n",
              "      <th>Movie</th>\n",
              "      <th>OVA</th>\n",
              "      <th>Special</th>\n",
              "      <th>ONA</th>\n",
              "    </tr>\n",
              "    <tr>\n",
              "      <th>anime_id</th>\n",
              "      <th></th>\n",
              "      <th></th>\n",
              "      <th></th>\n",
              "      <th></th>\n",
              "      <th></th>\n",
              "      <th></th>\n",
              "      <th></th>\n",
              "      <th></th>\n",
              "      <th></th>\n",
              "      <th></th>\n",
              "      <th></th>\n",
              "      <th></th>\n",
              "      <th></th>\n",
              "      <th></th>\n",
              "      <th></th>\n",
              "      <th></th>\n",
              "      <th></th>\n",
              "      <th></th>\n",
              "      <th></th>\n",
              "      <th></th>\n",
              "      <th></th>\n",
              "    </tr>\n",
              "  </thead>\n",
              "  <tbody>\n",
              "    <tr>\n",
              "      <th>1</th>\n",
              "      <td>1</td>\n",
              "      <td>1</td>\n",
              "      <td>1</td>\n",
              "      <td>1</td>\n",
              "      <td>1</td>\n",
              "      <td>1</td>\n",
              "      <td>0</td>\n",
              "      <td>0</td>\n",
              "      <td>0</td>\n",
              "      <td>0</td>\n",
              "      <td>...</td>\n",
              "      <td>0</td>\n",
              "      <td>0</td>\n",
              "      <td>0</td>\n",
              "      <td>0</td>\n",
              "      <td>0</td>\n",
              "      <td>1</td>\n",
              "      <td>0</td>\n",
              "      <td>0</td>\n",
              "      <td>0</td>\n",
              "      <td>0</td>\n",
              "    </tr>\n",
              "    <tr>\n",
              "      <th>5</th>\n",
              "      <td>1</td>\n",
              "      <td>0</td>\n",
              "      <td>0</td>\n",
              "      <td>1</td>\n",
              "      <td>1</td>\n",
              "      <td>1</td>\n",
              "      <td>1</td>\n",
              "      <td>0</td>\n",
              "      <td>0</td>\n",
              "      <td>0</td>\n",
              "      <td>...</td>\n",
              "      <td>0</td>\n",
              "      <td>0</td>\n",
              "      <td>0</td>\n",
              "      <td>0</td>\n",
              "      <td>0</td>\n",
              "      <td>0</td>\n",
              "      <td>1</td>\n",
              "      <td>0</td>\n",
              "      <td>0</td>\n",
              "      <td>0</td>\n",
              "    </tr>\n",
              "    <tr>\n",
              "      <th>6</th>\n",
              "      <td>1</td>\n",
              "      <td>0</td>\n",
              "      <td>1</td>\n",
              "      <td>0</td>\n",
              "      <td>1</td>\n",
              "      <td>0</td>\n",
              "      <td>0</td>\n",
              "      <td>0</td>\n",
              "      <td>0</td>\n",
              "      <td>0</td>\n",
              "      <td>...</td>\n",
              "      <td>0</td>\n",
              "      <td>0</td>\n",
              "      <td>0</td>\n",
              "      <td>0</td>\n",
              "      <td>0</td>\n",
              "      <td>1</td>\n",
              "      <td>0</td>\n",
              "      <td>0</td>\n",
              "      <td>0</td>\n",
              "      <td>0</td>\n",
              "    </tr>\n",
              "    <tr>\n",
              "      <th>7</th>\n",
              "      <td>1</td>\n",
              "      <td>0</td>\n",
              "      <td>0</td>\n",
              "      <td>1</td>\n",
              "      <td>0</td>\n",
              "      <td>0</td>\n",
              "      <td>1</td>\n",
              "      <td>1</td>\n",
              "      <td>1</td>\n",
              "      <td>1</td>\n",
              "      <td>...</td>\n",
              "      <td>0</td>\n",
              "      <td>0</td>\n",
              "      <td>0</td>\n",
              "      <td>0</td>\n",
              "      <td>0</td>\n",
              "      <td>1</td>\n",
              "      <td>0</td>\n",
              "      <td>0</td>\n",
              "      <td>0</td>\n",
              "      <td>0</td>\n",
              "    </tr>\n",
              "    <tr>\n",
              "      <th>8</th>\n",
              "      <td>0</td>\n",
              "      <td>0</td>\n",
              "      <td>0</td>\n",
              "      <td>0</td>\n",
              "      <td>0</td>\n",
              "      <td>0</td>\n",
              "      <td>0</td>\n",
              "      <td>0</td>\n",
              "      <td>0</td>\n",
              "      <td>1</td>\n",
              "      <td>...</td>\n",
              "      <td>0</td>\n",
              "      <td>0</td>\n",
              "      <td>0</td>\n",
              "      <td>0</td>\n",
              "      <td>0</td>\n",
              "      <td>1</td>\n",
              "      <td>0</td>\n",
              "      <td>0</td>\n",
              "      <td>0</td>\n",
              "      <td>0</td>\n",
              "    </tr>\n",
              "  </tbody>\n",
              "</table>\n",
              "<p>5 rows × 87 columns</p>\n",
              "</div>"
            ],
            "text/plain": [
              "          Action   Adventure   Comedy   Drama   Sci-Fi   Space   Mystery  \\\n",
              "anime_id                                                                   \n",
              "1              1           1        1       1        1       1         0   \n",
              "5              1           0        0       1        1       1         1   \n",
              "6              1           0        1       0        1       0         0   \n",
              "7              1           0        0       1        0       0         1   \n",
              "8              0           0        0       0        0       0         0   \n",
              "\n",
              "           Magic   Police   Supernatural  ...  Seinen  Josei  Thriller  \\\n",
              "anime_id                                  ...                            \n",
              "1              0        0              0  ...       0      0         0   \n",
              "5              0        0              0  ...       0      0         0   \n",
              "6              0        0              0  ...       0      0         0   \n",
              "7              1        1              1  ...       0      0         0   \n",
              "8              0        0              1  ...       0      0         0   \n",
              "\n",
              "          Police  Space  TV  Movie  OVA  Special  ONA  \n",
              "anime_id                                               \n",
              "1              0      0   1      0    0        0    0  \n",
              "5              0      0   0      1    0        0    0  \n",
              "6              0      0   1      0    0        0    0  \n",
              "7              0      0   1      0    0        0    0  \n",
              "8              0      0   1      0    0        0    0  \n",
              "\n",
              "[5 rows x 87 columns]"
            ]
          },
          "execution_count": 36,
          "metadata": {},
          "output_type": "execute_result"
        }
      ],
      "source": [
        "anime_features.head()"
      ]
    },
    {
      "cell_type": "markdown",
      "metadata": {
        "id": "394CJQwB1MEh"
      },
      "source": [
        "# SGD Model"
      ]
    },
    {
      "cell_type": "code",
      "execution_count": 37,
      "metadata": {
        "id": "MxfIjwLXd9Vz"
      },
      "outputs": [],
      "source": [
        "class MF(AlgoBase):\n",
        "    def __init__(self,learning_rate=0.005,num_epochs=10,num_factors=100, reg=0.02, verbose=False, biased=True):\n",
        "        bsl_options = {\n",
        "            \"reg\" : reg,\n",
        "            \"learning_rate\": learning_rate,\n",
        "            \"n_epochs\" : num_epochs,\n",
        "        }\n",
        "        self.biased = biased\n",
        "        self.verbose = verbose\n",
        "        self.num_factors = num_factors\n",
        "        AlgoBase.__init__(self, bsl_options=bsl_options)\n",
        "\n",
        "    def fit(self,train):\n",
        "        AlgoBase.fit(self, train)\n",
        "        self.sgd(train)\n",
        "\n",
        "\n",
        "    def estimate(self,u,i):\n",
        "        userKnown = self.trainset.knows_user(u)\n",
        "        itemKnown = self.trainset.knows_item(i)\n",
        "        if self.biased:\n",
        "            est = self.trainset.global_mean\n",
        "\n",
        "            if userKnown:\n",
        "                est += self.bu[u]\n",
        "\n",
        "            if itemKnown:\n",
        "                est += self.bi[i]\n",
        "\n",
        "            if userKnown and itemKnown:\n",
        "                est += np.dot(self.qi[i], self.pu[u])\n",
        "        else:\n",
        "            if userKnown and itemKnown:\n",
        "                est = np.dot(self.qi[i], self.pu[u])\n",
        "            else:\n",
        "                raise PredictionImpossible('User and item are unknown.')\n",
        "\n",
        "        return est\n",
        "\n",
        "    def sgd(self, train):\n",
        "        lr, reg = self.bsl_options[\"learning_rate\"], self.bsl_options[\"reg\"]\n",
        "        bu, bi = self.bu, self.bi\n",
        "        n_epochs = self.bsl_options[\"n_epochs\"]\n",
        "        n_factors = self.num_factors\n",
        "        biased = self.biased\n",
        "        global_mean = self.trainset.global_mean\n",
        "\n",
        "        rng = get_rng(None)\n",
        "\n",
        "        bu = np.zeros(train.n_users, dtype=np.double)\n",
        "        bi = np.zeros(train.n_items, dtype=np.double)\n",
        "        P = rng.normal(loc=0, scale=1/n_factors, size=(train.n_users, n_factors))\n",
        "        Q = rng.normal(loc=0, scale=1/n_factors, size=(train.n_items, n_factors))\n",
        "\n",
        "        if not biased:\n",
        "            global_mean = 0\n",
        "\n",
        "        for i_epoch in range(n_epochs):\n",
        "            if self.verbose:\n",
        "                print(\"Processing epoch {}\".format(i_epoch))\n",
        "\n",
        "            for u, i, r in train.all_ratings():\n",
        "                pred_r_ui = np.dot(P[u], Q[i])\n",
        "\n",
        "                e_ui = r - (pred_r_ui + bu[u] + bi[i] + global_mean)\n",
        "\n",
        "                if biased:\n",
        "                    bu[u] += lr * (e_ui - reg * bu[u])\n",
        "                    bi[i] += lr * (e_ui - reg * bi[i])\n",
        "\n",
        "                P[u] += lr * (e_ui*Q[i] - reg*P[u])\n",
        "                Q[i] += lr * (e_ui*P[u] - reg*Q[i])\n",
        "\n",
        "        self.bu = np.asarray(bu)\n",
        "        self.bi = np.asarray(bi)\n",
        "        self.pu = np.asarray(P)\n",
        "        self.qi = np.asarray(Q)"
      ]
    },
    {
      "cell_type": "markdown",
      "metadata": {},
      "source": [
        "# Get models"
      ]
    },
    {
      "cell_type": "code",
      "execution_count": 38,
      "metadata": {},
      "outputs": [],
      "source": [
        "reader = Reader(line_format='user item rating', rating_scale=(1, 10))\n",
        "data = Dataset.load_from_df(filt_ratings, reader)"
      ]
    },
    {
      "cell_type": "markdown",
      "metadata": {},
      "source": [
        "### Utility function used to get surprise models"
      ]
    },
    {
      "cell_type": "code",
      "execution_count": 39,
      "metadata": {},
      "outputs": [],
      "source": [
        "def getModel(model_path, data, mod):\n",
        "    if os.path.isfile(model_path):\n",
        "        pred, model = dump.load(model_path)\n",
        "    else:\n",
        "        if mod == 'MF':\n",
        "            param_grid = {\"learning_rate\": [0.002, 0.005], \"num_epochs\": [5, 10], \"num_factors\" : [10, 15], \"reg\" : [0.01, 0.05]}\n",
        "            gs = GridSearchCV(MF, param_grid, measures=['rmse'], cv=3, n_jobs=-1)\n",
        "        elif mod == 'KNN':\n",
        "            param_grid = {\n",
        "                'bsl_options': {\n",
        "                    'method': ['sgd'],\n",
        "                    'reg': [1, 2],\n",
        "                },\n",
        "                'k': [20, 25],\n",
        "                'sim_options': {\n",
        "                    'name': ['pearson_baseline'],\n",
        "                    'user_based': [False],\n",
        "                },\n",
        "                'verbose' :[False],\n",
        "            }\n",
        "            gs = GridSearchCV(KNNBaseline, param_grid, measures=['rmse'], cv=3, n_jobs=-1)\n",
        "        elif mod == 'ALS':\n",
        "            param_grid = {\n",
        "                'bsl_options': {\n",
        "                    'n_epochs': [10, 15, 20],\n",
        "                    'reg_i': [5, 10],\n",
        "                    'reg_u': [5, 10],\n",
        "                    'method': ['als'],\n",
        "                },\n",
        "                'verbose' :[False],\n",
        "            }\n",
        "            gs = GridSearchCV(BaselineOnly, param_grid, measures=['rmse'], cv=3, n_jobs=-1)\n",
        "\n",
        "        gs.fit(data)\n",
        "\n",
        "        train_set, test_set = train_test_split(data, test_size=0.20)\n",
        "\n",
        "        print(gs.best_score[\"rmse\"])\n",
        "        print(gs.best_params[\"rmse\"])\n",
        "\n",
        "        model = gs.best_estimator[\"rmse\"]\n",
        "        model.fit(train_set)\n",
        "\n",
        "        pred = model.test(test_set)\n",
        "\n",
        "        dump.dump(model_path, predictions=pred, algo=model)\n",
        "        \n",
        "\n",
        "    return model, pred"
      ]
    },
    {
      "cell_type": "code",
      "execution_count": 40,
      "metadata": {
        "id": "ohO2A_B11MEi"
      },
      "outputs": [],
      "source": [
        "sgd_model, sgd_pred = getModel(sgd_model_path, data, 'MF')"
      ]
    },
    {
      "cell_type": "code",
      "execution_count": 41,
      "metadata": {
        "id": "UNw60dqR1MEi"
      },
      "outputs": [],
      "source": [
        "knn_base_model, knn_base_pred = getModel(knn_base_model_path, data, 'KNN')"
      ]
    },
    {
      "cell_type": "code",
      "execution_count": 42,
      "metadata": {},
      "outputs": [],
      "source": [
        "als_model, als_pred = getModel(als_model_path, data, 'ALS')"
      ]
    },
    {
      "cell_type": "markdown",
      "metadata": {},
      "source": [
        "# Evaluation of models"
      ]
    },
    {
      "cell_type": "code",
      "execution_count": 43,
      "metadata": {},
      "outputs": [
        {
          "name": "stdout",
          "output_type": "stream",
          "text": [
            "RMSE: 1.1673\n",
            "MAE:  0.8812\n"
          ]
        }
      ],
      "source": [
        "sgd_rmse = accuracy.rmse(sgd_pred)\n",
        "sgd_mae = accuracy.mae(sgd_pred)"
      ]
    },
    {
      "cell_type": "code",
      "execution_count": 44,
      "metadata": {},
      "outputs": [
        {
          "name": "stdout",
          "output_type": "stream",
          "text": [
            "RMSE: 1.1406\n",
            "MAE:  0.8531\n"
          ]
        }
      ],
      "source": [
        "knn_base_rmse = accuracy.rmse(knn_base_pred)\n",
        "knn_base_mae = accuracy.mae(knn_base_pred)"
      ]
    },
    {
      "cell_type": "code",
      "execution_count": 45,
      "metadata": {},
      "outputs": [
        {
          "name": "stdout",
          "output_type": "stream",
          "text": [
            "RMSE: 1.1641\n",
            "MAE:  0.8845\n"
          ]
        }
      ],
      "source": [
        "als_rmse = accuracy.rmse(als_pred)\n",
        "als_mae = accuracy.mae(als_pred)"
      ]
    },
    {
      "cell_type": "markdown",
      "metadata": {},
      "source": [
        "The SGD model and KNN baseline model have the scores for their predictions, with the KNN beating the SGD model slightly"
      ]
    },
    {
      "cell_type": "code",
      "execution_count": 46,
      "metadata": {},
      "outputs": [],
      "source": [
        "def getTopN(model, userId, user_not_watched, n_recs):\n",
        "        top_recs = []\n",
        "\n",
        "        recs = []\n",
        "\n",
        "        for item in user_not_watched:\n",
        "            recs.append(model.predict(uid=userId, iid=item))\n",
        "        recs = sorted(recs, key=itemgetter(3), reverse=True)[:n_recs]\n",
        "\n",
        "        for rec in recs:\n",
        "            top_recs.append(rec.iid)\n",
        "\n",
        "        return top_recs"
      ]
    },
    {
      "cell_type": "markdown",
      "metadata": {},
      "source": [
        "### Create a new user and have them choose their top 5 anime they have watched"
      ]
    },
    {
      "cell_type": "markdown",
      "metadata": {},
      "source": [
        "create a new users id"
      ]
    },
    {
      "cell_type": "code",
      "execution_count": 47,
      "metadata": {},
      "outputs": [
        {
          "data": {
            "text/plain": [
              "73516"
            ]
          },
          "execution_count": 47,
          "metadata": {},
          "output_type": "execute_result"
        }
      ],
      "source": [
        "userID = max(list(filt_ratings['user_id'].values)) + 1\n",
        "userID"
      ]
    },
    {
      "cell_type": "markdown",
      "metadata": {},
      "source": [
        "display the top 50 anime"
      ]
    },
    {
      "cell_type": "code",
      "execution_count": 48,
      "metadata": {},
      "outputs": [
        {
          "data": {
            "text/html": [
              "<div>\n",
              "<style scoped>\n",
              "    .dataframe tbody tr th:only-of-type {\n",
              "        vertical-align: middle;\n",
              "    }\n",
              "\n",
              "    .dataframe tbody tr th {\n",
              "        vertical-align: top;\n",
              "    }\n",
              "\n",
              "    .dataframe thead th {\n",
              "        text-align: right;\n",
              "    }\n",
              "</style>\n",
              "<table border=\"1\" class=\"dataframe\">\n",
              "  <thead>\n",
              "    <tr style=\"text-align: right;\">\n",
              "      <th></th>\n",
              "      <th>anime_id</th>\n",
              "      <th>name</th>\n",
              "      <th>genre</th>\n",
              "      <th>type</th>\n",
              "      <th>episodes</th>\n",
              "      <th>rating</th>\n",
              "      <th>members</th>\n",
              "      <th>count</th>\n",
              "      <th>mean</th>\n",
              "      <th>weighted_average</th>\n",
              "    </tr>\n",
              "  </thead>\n",
              "  <tbody>\n",
              "    <tr>\n",
              "      <th>2405</th>\n",
              "      <td>5114</td>\n",
              "      <td>Fullmetal Alchemist: Brotherhood</td>\n",
              "      <td>Action, Adventure, Drama, Fantasy, Magic, Mili...</td>\n",
              "      <td>TV</td>\n",
              "      <td>64</td>\n",
              "      <td>9.26</td>\n",
              "      <td>793665</td>\n",
              "      <td>13004</td>\n",
              "      <td>9.330591</td>\n",
              "      <td>9.270065</td>\n",
              "    </tr>\n",
              "    <tr>\n",
              "      <th>3015</th>\n",
              "      <td>9253</td>\n",
              "      <td>Steins;Gate</td>\n",
              "      <td>Sci-Fi, Thriller</td>\n",
              "      <td>TV</td>\n",
              "      <td>24</td>\n",
              "      <td>9.17</td>\n",
              "      <td>673572</td>\n",
              "      <td>10704</td>\n",
              "      <td>9.274570</td>\n",
              "      <td>9.203721</td>\n",
              "    </tr>\n",
              "    <tr>\n",
              "      <th>3353</th>\n",
              "      <td>11061</td>\n",
              "      <td>Hunter x Hunter (2011)</td>\n",
              "      <td>Action, Adventure, Shounen, Super Power</td>\n",
              "      <td>TV</td>\n",
              "      <td>148</td>\n",
              "      <td>9.13</td>\n",
              "      <td>425855</td>\n",
              "      <td>4520</td>\n",
              "      <td>9.267035</td>\n",
              "      <td>9.108379</td>\n",
              "    </tr>\n",
              "    <tr>\n",
              "      <th>2252</th>\n",
              "      <td>4181</td>\n",
              "      <td>Clannad: After Story</td>\n",
              "      <td>Drama, Fantasy, Romance, Slice of Life, Supern...</td>\n",
              "      <td>TV</td>\n",
              "      <td>24</td>\n",
              "      <td>9.06</td>\n",
              "      <td>456749</td>\n",
              "      <td>9557</td>\n",
              "      <td>9.156221</td>\n",
              "      <td>9.082362</td>\n",
              "    </tr>\n",
              "    <tr>\n",
              "      <th>1922</th>\n",
              "      <td>2904</td>\n",
              "      <td>Code Geass: Hangyaku no Lelouch R2</td>\n",
              "      <td>Action, Drama, Mecha, Military, Sci-Fi, Super ...</td>\n",
              "      <td>TV</td>\n",
              "      <td>25</td>\n",
              "      <td>8.98</td>\n",
              "      <td>572888</td>\n",
              "      <td>13192</td>\n",
              "      <td>9.049045</td>\n",
              "      <td>8.998294</td>\n",
              "    </tr>\n",
              "    <tr>\n",
              "      <th>767</th>\n",
              "      <td>918</td>\n",
              "      <td>Gintama</td>\n",
              "      <td>Action, Comedy, Historical, Parody, Samurai, S...</td>\n",
              "      <td>TV</td>\n",
              "      <td>201</td>\n",
              "      <td>9.04</td>\n",
              "      <td>336376</td>\n",
              "      <td>2314</td>\n",
              "      <td>9.256266</td>\n",
              "      <td>8.971878</td>\n",
              "    </tr>\n",
              "    <tr>\n",
              "      <th>3118</th>\n",
              "      <td>9969</td>\n",
              "      <td>Gintama&amp;#039;</td>\n",
              "      <td>Action, Comedy, Historical, Parody, Samurai, S...</td>\n",
              "      <td>TV</td>\n",
              "      <td>51</td>\n",
              "      <td>9.16</td>\n",
              "      <td>151266</td>\n",
              "      <td>1604</td>\n",
              "      <td>9.335411</td>\n",
              "      <td>8.935068</td>\n",
              "    </tr>\n",
              "    <tr>\n",
              "      <th>4808</th>\n",
              "      <td>32281</td>\n",
              "      <td>Kimi no Na wa.</td>\n",
              "      <td>Drama, Romance, School, Supernatural</td>\n",
              "      <td>Movie</td>\n",
              "      <td>1</td>\n",
              "      <td>9.37</td>\n",
              "      <td>200630</td>\n",
              "      <td>1223</td>\n",
              "      <td>9.449714</td>\n",
              "      <td>8.927373</td>\n",
              "    </tr>\n",
              "    <tr>\n",
              "      <th>4290</th>\n",
              "      <td>23273</td>\n",
              "      <td>Shigatsu wa Kimi no Uso</td>\n",
              "      <td>Drama, Music, Romance, School, Shounen</td>\n",
              "      <td>TV</td>\n",
              "      <td>22</td>\n",
              "      <td>8.92</td>\n",
              "      <td>416397</td>\n",
              "      <td>5031</td>\n",
              "      <td>9.033393</td>\n",
              "      <td>8.908075</td>\n",
              "    </tr>\n",
              "    <tr>\n",
              "      <th>172</th>\n",
              "      <td>199</td>\n",
              "      <td>Sen to Chihiro no Kamikakushi</td>\n",
              "      <td>Adventure, Drama, Supernatural</td>\n",
              "      <td>Movie</td>\n",
              "      <td>1</td>\n",
              "      <td>8.93</td>\n",
              "      <td>466254</td>\n",
              "      <td>12157</td>\n",
              "      <td>8.932220</td>\n",
              "      <td>8.881311</td>\n",
              "    </tr>\n",
              "    <tr>\n",
              "      <th>1528</th>\n",
              "      <td>2001</td>\n",
              "      <td>Tengen Toppa Gurren Lagann</td>\n",
              "      <td>Action, Adventure, Comedy, Mecha, Sci-Fi</td>\n",
              "      <td>TV</td>\n",
              "      <td>27</td>\n",
              "      <td>8.78</td>\n",
              "      <td>562962</td>\n",
              "      <td>10470</td>\n",
              "      <td>8.923782</td>\n",
              "      <td>8.865331</td>\n",
              "    </tr>\n",
              "    <tr>\n",
              "      <th>1265</th>\n",
              "      <td>1575</td>\n",
              "      <td>Code Geass: Hangyaku no Lelouch</td>\n",
              "      <td>Action, Mecha, Military, School, Sci-Fi, Super...</td>\n",
              "      <td>TV</td>\n",
              "      <td>25</td>\n",
              "      <td>8.83</td>\n",
              "      <td>715151</td>\n",
              "      <td>14987</td>\n",
              "      <td>8.904851</td>\n",
              "      <td>8.864053</td>\n",
              "    </tr>\n",
              "    <tr>\n",
              "      <th>4611</th>\n",
              "      <td>30276</td>\n",
              "      <td>One Punch Man</td>\n",
              "      <td>Action, Comedy, Parody, Sci-Fi, Seinen, Super ...</td>\n",
              "      <td>TV</td>\n",
              "      <td>12</td>\n",
              "      <td>8.82</td>\n",
              "      <td>552458</td>\n",
              "      <td>7130</td>\n",
              "      <td>8.949509</td>\n",
              "      <td>8.863772</td>\n",
              "    </tr>\n",
              "    <tr>\n",
              "      <th>3485</th>\n",
              "      <td>12355</td>\n",
              "      <td>Ookami Kodomo no Ame to Yuki</td>\n",
              "      <td>Fantasy, Slice of Life</td>\n",
              "      <td>Movie</td>\n",
              "      <td>1</td>\n",
              "      <td>8.84</td>\n",
              "      <td>226193</td>\n",
              "      <td>3978</td>\n",
              "      <td>8.966315</td>\n",
              "      <td>8.817657</td>\n",
              "    </tr>\n",
              "    <tr>\n",
              "      <th>0</th>\n",
              "      <td>1</td>\n",
              "      <td>Cowboy Bebop</td>\n",
              "      <td>Action, Adventure, Comedy, Drama, Sci-Fi, Space</td>\n",
              "      <td>TV</td>\n",
              "      <td>26</td>\n",
              "      <td>8.82</td>\n",
              "      <td>486824</td>\n",
              "      <td>8156</td>\n",
              "      <td>8.875061</td>\n",
              "      <td>8.803316</td>\n",
              "    </tr>\n",
              "    <tr>\n",
              "      <th>2778</th>\n",
              "      <td>7311</td>\n",
              "      <td>Suzumiya Haruhi no Shoushitsu</td>\n",
              "      <td>Comedy, Mystery, Romance, School, Sci-Fi, Supe...</td>\n",
              "      <td>Movie</td>\n",
              "      <td>1</td>\n",
              "      <td>8.81</td>\n",
              "      <td>240297</td>\n",
              "      <td>4815</td>\n",
              "      <td>8.908619</td>\n",
              "      <td>8.788429</td>\n",
              "    </tr>\n",
              "    <tr>\n",
              "      <th>211</th>\n",
              "      <td>245</td>\n",
              "      <td>Great Teacher Onizuka</td>\n",
              "      <td>Comedy, Drama, School, Shounen, Slice of Life</td>\n",
              "      <td>TV</td>\n",
              "      <td>43</td>\n",
              "      <td>8.77</td>\n",
              "      <td>268487</td>\n",
              "      <td>5020</td>\n",
              "      <td>8.891633</td>\n",
              "      <td>8.777310</td>\n",
              "    </tr>\n",
              "    <tr>\n",
              "      <th>404</th>\n",
              "      <td>457</td>\n",
              "      <td>Mushishi</td>\n",
              "      <td>Adventure, Fantasy, Historical, Mystery, Seine...</td>\n",
              "      <td>TV</td>\n",
              "      <td>26</td>\n",
              "      <td>8.78</td>\n",
              "      <td>300030</td>\n",
              "      <td>3553</td>\n",
              "      <td>8.925697</td>\n",
              "      <td>8.765596</td>\n",
              "    </tr>\n",
              "    <tr>\n",
              "      <th>1235</th>\n",
              "      <td>1535</td>\n",
              "      <td>Death Note</td>\n",
              "      <td>Mystery, Police, Psychological, Supernatural, ...</td>\n",
              "      <td>TV</td>\n",
              "      <td>37</td>\n",
              "      <td>8.71</td>\n",
              "      <td>1013917</td>\n",
              "      <td>19586</td>\n",
              "      <td>8.789799</td>\n",
              "      <td>8.760860</td>\n",
              "    </tr>\n",
              "    <tr>\n",
              "      <th>229</th>\n",
              "      <td>263</td>\n",
              "      <td>Hajime no Ippo</td>\n",
              "      <td>Comedy, Drama, Shounen, Sports</td>\n",
              "      <td>TV</td>\n",
              "      <td>75</td>\n",
              "      <td>8.83</td>\n",
              "      <td>157670</td>\n",
              "      <td>2508</td>\n",
              "      <td>8.984848</td>\n",
              "      <td>8.759151</td>\n",
              "    </tr>\n",
              "    <tr>\n",
              "      <th>140</th>\n",
              "      <td>164</td>\n",
              "      <td>Mononoke Hime</td>\n",
              "      <td>Action, Adventure, Fantasy</td>\n",
              "      <td>Movie</td>\n",
              "      <td>1</td>\n",
              "      <td>8.81</td>\n",
              "      <td>339556</td>\n",
              "      <td>8624</td>\n",
              "      <td>8.817834</td>\n",
              "      <td>8.752530</td>\n",
              "    </tr>\n",
              "    <tr>\n",
              "      <th>3751</th>\n",
              "      <td>15417</td>\n",
              "      <td>Gintama&amp;#039;: Enchousen</td>\n",
              "      <td>Action, Comedy, Historical, Parody, Samurai, S...</td>\n",
              "      <td>TV</td>\n",
              "      <td>13</td>\n",
              "      <td>9.11</td>\n",
              "      <td>81109</td>\n",
              "      <td>997</td>\n",
              "      <td>9.289870</td>\n",
              "      <td>8.733323</td>\n",
              "    </tr>\n",
              "    <tr>\n",
              "      <th>4554</th>\n",
              "      <td>28891</td>\n",
              "      <td>Haikyuu!! Second Season</td>\n",
              "      <td>Comedy, Drama, School, Shounen, Sports</td>\n",
              "      <td>TV</td>\n",
              "      <td>25</td>\n",
              "      <td>8.93</td>\n",
              "      <td>179342</td>\n",
              "      <td>1928</td>\n",
              "      <td>9.015560</td>\n",
              "      <td>8.728780</td>\n",
              "    </tr>\n",
              "    <tr>\n",
              "      <th>3416</th>\n",
              "      <td>11741</td>\n",
              "      <td>Fate/Zero 2nd Season</td>\n",
              "      <td>Action, Fantasy, Supernatural, Thriller</td>\n",
              "      <td>TV</td>\n",
              "      <td>12</td>\n",
              "      <td>8.73</td>\n",
              "      <td>340973</td>\n",
              "      <td>6387</td>\n",
              "      <td>8.813684</td>\n",
              "      <td>8.727221</td>\n",
              "    </tr>\n",
              "    <tr>\n",
              "      <th>380</th>\n",
              "      <td>431</td>\n",
              "      <td>Howl no Ugoku Shiro</td>\n",
              "      <td>Adventure, Drama, Fantasy, Romance</td>\n",
              "      <td>Movie</td>\n",
              "      <td>1</td>\n",
              "      <td>8.74</td>\n",
              "      <td>333186</td>\n",
              "      <td>9090</td>\n",
              "      <td>8.787789</td>\n",
              "      <td>8.727045</td>\n",
              "    </tr>\n",
              "    <tr>\n",
              "      <th>9</th>\n",
              "      <td>19</td>\n",
              "      <td>Monster</td>\n",
              "      <td>Drama, Horror, Mystery, Police, Psychological,...</td>\n",
              "      <td>TV</td>\n",
              "      <td>74</td>\n",
              "      <td>8.72</td>\n",
              "      <td>247562</td>\n",
              "      <td>2415</td>\n",
              "      <td>8.948654</td>\n",
              "      <td>8.721084</td>\n",
              "    </tr>\n",
              "    <tr>\n",
              "      <th>3887</th>\n",
              "      <td>17074</td>\n",
              "      <td>Monogatari Series: Second Season</td>\n",
              "      <td>Comedy, Mystery, Romance, Supernatural, Vampire</td>\n",
              "      <td>TV</td>\n",
              "      <td>26</td>\n",
              "      <td>8.80</td>\n",
              "      <td>205959</td>\n",
              "      <td>2723</td>\n",
              "      <td>8.905986</td>\n",
              "      <td>8.706477</td>\n",
              "    </tr>\n",
              "    <tr>\n",
              "      <th>3124</th>\n",
              "      <td>9989</td>\n",
              "      <td>Ano Hi Mita Hana no Namae wo Bokutachi wa Mada...</td>\n",
              "      <td>Drama, Slice of Life, Supernatural</td>\n",
              "      <td>TV</td>\n",
              "      <td>11</td>\n",
              "      <td>8.62</td>\n",
              "      <td>463835</td>\n",
              "      <td>9073</td>\n",
              "      <td>8.762813</td>\n",
              "      <td>8.703097</td>\n",
              "    </tr>\n",
              "    <tr>\n",
              "      <th>3745</th>\n",
              "      <td>15335</td>\n",
              "      <td>Gintama Movie: Kanketsu-hen - Yorozuya yo Eien...</td>\n",
              "      <td>Action, Comedy, Historical, Parody, Samurai, S...</td>\n",
              "      <td>Movie</td>\n",
              "      <td>1</td>\n",
              "      <td>9.10</td>\n",
              "      <td>72534</td>\n",
              "      <td>1066</td>\n",
              "      <td>9.196998</td>\n",
              "      <td>8.692886</td>\n",
              "    </tr>\n",
              "    <tr>\n",
              "      <th>23</th>\n",
              "      <td>44</td>\n",
              "      <td>Rurouni Kenshin: Meiji Kenkaku Romantan - Tsui...</td>\n",
              "      <td>Action, Drama, Historical, Martial Arts, Roman...</td>\n",
              "      <td>OVA</td>\n",
              "      <td>4</td>\n",
              "      <td>8.83</td>\n",
              "      <td>129307</td>\n",
              "      <td>2849</td>\n",
              "      <td>8.880660</td>\n",
              "      <td>8.692150</td>\n",
              "    </tr>\n",
              "    <tr>\n",
              "      <th>3486</th>\n",
              "      <td>12365</td>\n",
              "      <td>Bakuman. 3rd Season</td>\n",
              "      <td>Comedy, Drama, Romance, Shounen</td>\n",
              "      <td>TV</td>\n",
              "      <td>25</td>\n",
              "      <td>8.71</td>\n",
              "      <td>133620</td>\n",
              "      <td>2295</td>\n",
              "      <td>8.902832</td>\n",
              "      <td>8.672518</td>\n",
              "    </tr>\n",
              "    <tr>\n",
              "      <th>3847</th>\n",
              "      <td>16498</td>\n",
              "      <td>Shingeki no Kyojin</td>\n",
              "      <td>Action, Drama, Fantasy, Shounen, Super Power</td>\n",
              "      <td>TV</td>\n",
              "      <td>25</td>\n",
              "      <td>8.54</td>\n",
              "      <td>896229</td>\n",
              "      <td>15196</td>\n",
              "      <td>8.694196</td>\n",
              "      <td>8.659775</td>\n",
              "    </tr>\n",
              "    <tr>\n",
              "      <th>4671</th>\n",
              "      <td>31043</td>\n",
              "      <td>Boku dake ga Inai Machi</td>\n",
              "      <td>Mystery, Psychological, Seinen, Supernatural</td>\n",
              "      <td>TV</td>\n",
              "      <td>12</td>\n",
              "      <td>8.65</td>\n",
              "      <td>402381</td>\n",
              "      <td>4938</td>\n",
              "      <td>8.759214</td>\n",
              "      <td>8.653811</td>\n",
              "    </tr>\n",
              "    <tr>\n",
              "      <th>3877</th>\n",
              "      <td>16894</td>\n",
              "      <td>Kuroko no Basket 2nd Season</td>\n",
              "      <td>Comedy, School, Shounen, Sports</td>\n",
              "      <td>TV</td>\n",
              "      <td>25</td>\n",
              "      <td>8.58</td>\n",
              "      <td>243325</td>\n",
              "      <td>4219</td>\n",
              "      <td>8.756814</td>\n",
              "      <td>8.635342</td>\n",
              "    </tr>\n",
              "    <tr>\n",
              "      <th>4102</th>\n",
              "      <td>20583</td>\n",
              "      <td>Haikyuu!!</td>\n",
              "      <td>Comedy, Drama, School, Shounen, Sports</td>\n",
              "      <td>TV</td>\n",
              "      <td>25</td>\n",
              "      <td>8.68</td>\n",
              "      <td>284498</td>\n",
              "      <td>3720</td>\n",
              "      <td>8.758602</td>\n",
              "      <td>8.622347</td>\n",
              "    </tr>\n",
              "    <tr>\n",
              "      <th>4244</th>\n",
              "      <td>22535</td>\n",
              "      <td>Kiseijuu: Sei no Kakuritsu</td>\n",
              "      <td>Action, Drama, Horror, Psychological, Sci-Fi, ...</td>\n",
              "      <td>TV</td>\n",
              "      <td>24</td>\n",
              "      <td>8.59</td>\n",
              "      <td>425457</td>\n",
              "      <td>6192</td>\n",
              "      <td>8.698966</td>\n",
              "      <td>8.617450</td>\n",
              "    </tr>\n",
              "    <tr>\n",
              "      <th>652</th>\n",
              "      <td>777</td>\n",
              "      <td>Hellsing Ultimate</td>\n",
              "      <td>Action, Horror, Military, Seinen, Supernatural...</td>\n",
              "      <td>OVA</td>\n",
              "      <td>10</td>\n",
              "      <td>8.59</td>\n",
              "      <td>297454</td>\n",
              "      <td>3724</td>\n",
              "      <td>8.752148</td>\n",
              "      <td>8.616696</td>\n",
              "    </tr>\n",
              "    <tr>\n",
              "      <th>3212</th>\n",
              "      <td>10408</td>\n",
              "      <td>Hotarubi no Mori e</td>\n",
              "      <td>Drama, Romance, Shoujo, Supernatural</td>\n",
              "      <td>Movie</td>\n",
              "      <td>1</td>\n",
              "      <td>8.61</td>\n",
              "      <td>197439</td>\n",
              "      <td>3543</td>\n",
              "      <td>8.745131</td>\n",
              "      <td>8.604276</td>\n",
              "    </tr>\n",
              "    <tr>\n",
              "      <th>728</th>\n",
              "      <td>877</td>\n",
              "      <td>Nana</td>\n",
              "      <td>Comedy, Drama, Music, Romance, Shoujo, Slice o...</td>\n",
              "      <td>TV</td>\n",
              "      <td>47</td>\n",
              "      <td>8.55</td>\n",
              "      <td>197256</td>\n",
              "      <td>3175</td>\n",
              "      <td>8.749606</td>\n",
              "      <td>8.593846</td>\n",
              "    </tr>\n",
              "    <tr>\n",
              "      <th>3606</th>\n",
              "      <td>13601</td>\n",
              "      <td>Psycho-Pass</td>\n",
              "      <td>Action, Police, Psychological, Sci-Fi</td>\n",
              "      <td>TV</td>\n",
              "      <td>22</td>\n",
              "      <td>8.50</td>\n",
              "      <td>509109</td>\n",
              "      <td>7444</td>\n",
              "      <td>8.658248</td>\n",
              "      <td>8.591925</td>\n",
              "    </tr>\n",
              "    <tr>\n",
              "      <th>1662</th>\n",
              "      <td>2251</td>\n",
              "      <td>Baccano!</td>\n",
              "      <td>Action, Comedy, Historical, Mystery, Seinen, S...</td>\n",
              "      <td>TV</td>\n",
              "      <td>13</td>\n",
              "      <td>8.54</td>\n",
              "      <td>363215</td>\n",
              "      <td>5957</td>\n",
              "      <td>8.669464</td>\n",
              "      <td>8.586947</td>\n",
              "    </tr>\n",
              "    <tr>\n",
              "      <th>2441</th>\n",
              "      <td>5258</td>\n",
              "      <td>Hajime no Ippo: New Challenger</td>\n",
              "      <td>Comedy, Drama, Shounen, Sports</td>\n",
              "      <td>TV</td>\n",
              "      <td>26</td>\n",
              "      <td>8.75</td>\n",
              "      <td>88995</td>\n",
              "      <td>1788</td>\n",
              "      <td>8.860738</td>\n",
              "      <td>8.586039</td>\n",
              "    </tr>\n",
              "    <tr>\n",
              "      <th>3161</th>\n",
              "      <td>10165</td>\n",
              "      <td>Nichijou</td>\n",
              "      <td>Comedy, School, Slice of Life</td>\n",
              "      <td>TV</td>\n",
              "      <td>26</td>\n",
              "      <td>8.52</td>\n",
              "      <td>254436</td>\n",
              "      <td>2753</td>\n",
              "      <td>8.759898</td>\n",
              "      <td>8.582107</td>\n",
              "    </tr>\n",
              "    <tr>\n",
              "      <th>4508</th>\n",
              "      <td>28171</td>\n",
              "      <td>Shokugeki no Souma</td>\n",
              "      <td>Ecchi, School, Shounen</td>\n",
              "      <td>TV</td>\n",
              "      <td>24</td>\n",
              "      <td>8.61</td>\n",
              "      <td>348951</td>\n",
              "      <td>4011</td>\n",
              "      <td>8.700823</td>\n",
              "      <td>8.579116</td>\n",
              "    </tr>\n",
              "    <tr>\n",
              "      <th>4560</th>\n",
              "      <td>28977</td>\n",
              "      <td>Gintama°</td>\n",
              "      <td>Action, Comedy, Historical, Parody, Samurai, S...</td>\n",
              "      <td>TV</td>\n",
              "      <td>51</td>\n",
              "      <td>9.25</td>\n",
              "      <td>114262</td>\n",
              "      <td>524</td>\n",
              "      <td>9.505725</td>\n",
              "      <td>8.576374</td>\n",
              "    </tr>\n",
              "    <tr>\n",
              "      <th>4363</th>\n",
              "      <td>24415</td>\n",
              "      <td>Kuroko no Basket 3rd Season</td>\n",
              "      <td>Comedy, School, Shounen, Sports</td>\n",
              "      <td>TV</td>\n",
              "      <td>25</td>\n",
              "      <td>8.62</td>\n",
              "      <td>184525</td>\n",
              "      <td>2442</td>\n",
              "      <td>8.773546</td>\n",
              "      <td>8.574466</td>\n",
              "    </tr>\n",
              "    <tr>\n",
              "      <th>2270</th>\n",
              "      <td>4282</td>\n",
              "      <td>Kara no Kyoukai 5: Mujun Rasen</td>\n",
              "      <td>Action, Drama, Mystery, Romance, Supernatural,...</td>\n",
              "      <td>Movie</td>\n",
              "      <td>1</td>\n",
              "      <td>8.68</td>\n",
              "      <td>111074</td>\n",
              "      <td>2093</td>\n",
              "      <td>8.803631</td>\n",
              "      <td>8.571888</td>\n",
              "    </tr>\n",
              "    <tr>\n",
              "      <th>3399</th>\n",
              "      <td>11577</td>\n",
              "      <td>Steins;Gate Movie: Fuka Ryouiki no Déjà vu</td>\n",
              "      <td>Sci-Fi, Thriller</td>\n",
              "      <td>Movie</td>\n",
              "      <td>1</td>\n",
              "      <td>8.61</td>\n",
              "      <td>192424</td>\n",
              "      <td>3270</td>\n",
              "      <td>8.714985</td>\n",
              "      <td>8.567266</td>\n",
              "    </tr>\n",
              "    <tr>\n",
              "      <th>3554</th>\n",
              "      <td>13125</td>\n",
              "      <td>Shinsekai yori</td>\n",
              "      <td>Drama, Horror, Mystery, Sci-Fi, Supernatural</td>\n",
              "      <td>TV</td>\n",
              "      <td>25</td>\n",
              "      <td>8.53</td>\n",
              "      <td>288376</td>\n",
              "      <td>3146</td>\n",
              "      <td>8.716465</td>\n",
              "      <td>8.563449</td>\n",
              "    </tr>\n",
              "    <tr>\n",
              "      <th>2564</th>\n",
              "      <td>6114</td>\n",
              "      <td>Rainbow: Nisha Rokubou no Shichinin</td>\n",
              "      <td>Drama, Historical, Seinen, Thriller</td>\n",
              "      <td>TV</td>\n",
              "      <td>26</td>\n",
              "      <td>8.64</td>\n",
              "      <td>139474</td>\n",
              "      <td>1484</td>\n",
              "      <td>8.882075</td>\n",
              "      <td>8.558989</td>\n",
              "    </tr>\n",
              "  </tbody>\n",
              "</table>\n",
              "</div>"
            ],
            "text/plain": [
              "      anime_id                                               name  \\\n",
              "2405      5114                   Fullmetal Alchemist: Brotherhood   \n",
              "3015      9253                                        Steins;Gate   \n",
              "3353     11061                             Hunter x Hunter (2011)   \n",
              "2252      4181                               Clannad: After Story   \n",
              "1922      2904                 Code Geass: Hangyaku no Lelouch R2   \n",
              "767        918                                            Gintama   \n",
              "3118      9969                                      Gintama&#039;   \n",
              "4808     32281                                     Kimi no Na wa.   \n",
              "4290     23273                            Shigatsu wa Kimi no Uso   \n",
              "172        199                      Sen to Chihiro no Kamikakushi   \n",
              "1528      2001                         Tengen Toppa Gurren Lagann   \n",
              "1265      1575                    Code Geass: Hangyaku no Lelouch   \n",
              "4611     30276                                      One Punch Man   \n",
              "3485     12355                       Ookami Kodomo no Ame to Yuki   \n",
              "0            1                                       Cowboy Bebop   \n",
              "2778      7311                      Suzumiya Haruhi no Shoushitsu   \n",
              "211        245                              Great Teacher Onizuka   \n",
              "404        457                                           Mushishi   \n",
              "1235      1535                                         Death Note   \n",
              "229        263                                     Hajime no Ippo   \n",
              "140        164                                      Mononoke Hime   \n",
              "3751     15417                           Gintama&#039;: Enchousen   \n",
              "4554     28891                            Haikyuu!! Second Season   \n",
              "3416     11741                               Fate/Zero 2nd Season   \n",
              "380        431                                Howl no Ugoku Shiro   \n",
              "9           19                                            Monster   \n",
              "3887     17074                   Monogatari Series: Second Season   \n",
              "3124      9989  Ano Hi Mita Hana no Namae wo Bokutachi wa Mada...   \n",
              "3745     15335  Gintama Movie: Kanketsu-hen - Yorozuya yo Eien...   \n",
              "23          44  Rurouni Kenshin: Meiji Kenkaku Romantan - Tsui...   \n",
              "3486     12365                                Bakuman. 3rd Season   \n",
              "3847     16498                                 Shingeki no Kyojin   \n",
              "4671     31043                            Boku dake ga Inai Machi   \n",
              "3877     16894                        Kuroko no Basket 2nd Season   \n",
              "4102     20583                                          Haikyuu!!   \n",
              "4244     22535                         Kiseijuu: Sei no Kakuritsu   \n",
              "652        777                                  Hellsing Ultimate   \n",
              "3212     10408                                 Hotarubi no Mori e   \n",
              "728        877                                               Nana   \n",
              "3606     13601                                        Psycho-Pass   \n",
              "1662      2251                                           Baccano!   \n",
              "2441      5258                     Hajime no Ippo: New Challenger   \n",
              "3161     10165                                           Nichijou   \n",
              "4508     28171                                 Shokugeki no Souma   \n",
              "4560     28977                                           Gintama°   \n",
              "4363     24415                        Kuroko no Basket 3rd Season   \n",
              "2270      4282                     Kara no Kyoukai 5: Mujun Rasen   \n",
              "3399     11577         Steins;Gate Movie: Fuka Ryouiki no Déjà vu   \n",
              "3554     13125                                     Shinsekai yori   \n",
              "2564      6114                Rainbow: Nisha Rokubou no Shichinin   \n",
              "\n",
              "                                                  genre   type episodes  \\\n",
              "2405  Action, Adventure, Drama, Fantasy, Magic, Mili...     TV       64   \n",
              "3015                                   Sci-Fi, Thriller     TV       24   \n",
              "3353            Action, Adventure, Shounen, Super Power     TV      148   \n",
              "2252  Drama, Fantasy, Romance, Slice of Life, Supern...     TV       24   \n",
              "1922  Action, Drama, Mecha, Military, Sci-Fi, Super ...     TV       25   \n",
              "767   Action, Comedy, Historical, Parody, Samurai, S...     TV      201   \n",
              "3118  Action, Comedy, Historical, Parody, Samurai, S...     TV       51   \n",
              "4808               Drama, Romance, School, Supernatural  Movie        1   \n",
              "4290             Drama, Music, Romance, School, Shounen     TV       22   \n",
              "172                      Adventure, Drama, Supernatural  Movie        1   \n",
              "1528           Action, Adventure, Comedy, Mecha, Sci-Fi     TV       27   \n",
              "1265  Action, Mecha, Military, School, Sci-Fi, Super...     TV       25   \n",
              "4611  Action, Comedy, Parody, Sci-Fi, Seinen, Super ...     TV       12   \n",
              "3485                             Fantasy, Slice of Life  Movie        1   \n",
              "0       Action, Adventure, Comedy, Drama, Sci-Fi, Space     TV       26   \n",
              "2778  Comedy, Mystery, Romance, School, Sci-Fi, Supe...  Movie        1   \n",
              "211       Comedy, Drama, School, Shounen, Slice of Life     TV       43   \n",
              "404   Adventure, Fantasy, Historical, Mystery, Seine...     TV       26   \n",
              "1235  Mystery, Police, Psychological, Supernatural, ...     TV       37   \n",
              "229                      Comedy, Drama, Shounen, Sports     TV       75   \n",
              "140                          Action, Adventure, Fantasy  Movie        1   \n",
              "3751  Action, Comedy, Historical, Parody, Samurai, S...     TV       13   \n",
              "4554             Comedy, Drama, School, Shounen, Sports     TV       25   \n",
              "3416            Action, Fantasy, Supernatural, Thriller     TV       12   \n",
              "380                  Adventure, Drama, Fantasy, Romance  Movie        1   \n",
              "9     Drama, Horror, Mystery, Police, Psychological,...     TV       74   \n",
              "3887    Comedy, Mystery, Romance, Supernatural, Vampire     TV       26   \n",
              "3124                 Drama, Slice of Life, Supernatural     TV       11   \n",
              "3745  Action, Comedy, Historical, Parody, Samurai, S...  Movie        1   \n",
              "23    Action, Drama, Historical, Martial Arts, Roman...    OVA        4   \n",
              "3486                    Comedy, Drama, Romance, Shounen     TV       25   \n",
              "3847       Action, Drama, Fantasy, Shounen, Super Power     TV       25   \n",
              "4671       Mystery, Psychological, Seinen, Supernatural     TV       12   \n",
              "3877                    Comedy, School, Shounen, Sports     TV       25   \n",
              "4102             Comedy, Drama, School, Shounen, Sports     TV       25   \n",
              "4244  Action, Drama, Horror, Psychological, Sci-Fi, ...     TV       24   \n",
              "652   Action, Horror, Military, Seinen, Supernatural...    OVA       10   \n",
              "3212               Drama, Romance, Shoujo, Supernatural  Movie        1   \n",
              "728   Comedy, Drama, Music, Romance, Shoujo, Slice o...     TV       47   \n",
              "3606              Action, Police, Psychological, Sci-Fi     TV       22   \n",
              "1662  Action, Comedy, Historical, Mystery, Seinen, S...     TV       13   \n",
              "2441                     Comedy, Drama, Shounen, Sports     TV       26   \n",
              "3161                      Comedy, School, Slice of Life     TV       26   \n",
              "4508                             Ecchi, School, Shounen     TV       24   \n",
              "4560  Action, Comedy, Historical, Parody, Samurai, S...     TV       51   \n",
              "4363                    Comedy, School, Shounen, Sports     TV       25   \n",
              "2270  Action, Drama, Mystery, Romance, Supernatural,...  Movie        1   \n",
              "3399                                   Sci-Fi, Thriller  Movie        1   \n",
              "3554       Drama, Horror, Mystery, Sci-Fi, Supernatural     TV       25   \n",
              "2564                Drama, Historical, Seinen, Thriller     TV       26   \n",
              "\n",
              "      rating  members  count      mean  weighted_average  \n",
              "2405    9.26   793665  13004  9.330591          9.270065  \n",
              "3015    9.17   673572  10704  9.274570          9.203721  \n",
              "3353    9.13   425855   4520  9.267035          9.108379  \n",
              "2252    9.06   456749   9557  9.156221          9.082362  \n",
              "1922    8.98   572888  13192  9.049045          8.998294  \n",
              "767     9.04   336376   2314  9.256266          8.971878  \n",
              "3118    9.16   151266   1604  9.335411          8.935068  \n",
              "4808    9.37   200630   1223  9.449714          8.927373  \n",
              "4290    8.92   416397   5031  9.033393          8.908075  \n",
              "172     8.93   466254  12157  8.932220          8.881311  \n",
              "1528    8.78   562962  10470  8.923782          8.865331  \n",
              "1265    8.83   715151  14987  8.904851          8.864053  \n",
              "4611    8.82   552458   7130  8.949509          8.863772  \n",
              "3485    8.84   226193   3978  8.966315          8.817657  \n",
              "0       8.82   486824   8156  8.875061          8.803316  \n",
              "2778    8.81   240297   4815  8.908619          8.788429  \n",
              "211     8.77   268487   5020  8.891633          8.777310  \n",
              "404     8.78   300030   3553  8.925697          8.765596  \n",
              "1235    8.71  1013917  19586  8.789799          8.760860  \n",
              "229     8.83   157670   2508  8.984848          8.759151  \n",
              "140     8.81   339556   8624  8.817834          8.752530  \n",
              "3751    9.11    81109    997  9.289870          8.733323  \n",
              "4554    8.93   179342   1928  9.015560          8.728780  \n",
              "3416    8.73   340973   6387  8.813684          8.727221  \n",
              "380     8.74   333186   9090  8.787789          8.727045  \n",
              "9       8.72   247562   2415  8.948654          8.721084  \n",
              "3887    8.80   205959   2723  8.905986          8.706477  \n",
              "3124    8.62   463835   9073  8.762813          8.703097  \n",
              "3745    9.10    72534   1066  9.196998          8.692886  \n",
              "23      8.83   129307   2849  8.880660          8.692150  \n",
              "3486    8.71   133620   2295  8.902832          8.672518  \n",
              "3847    8.54   896229  15196  8.694196          8.659775  \n",
              "4671    8.65   402381   4938  8.759214          8.653811  \n",
              "3877    8.58   243325   4219  8.756814          8.635342  \n",
              "4102    8.68   284498   3720  8.758602          8.622347  \n",
              "4244    8.59   425457   6192  8.698966          8.617450  \n",
              "652     8.59   297454   3724  8.752148          8.616696  \n",
              "3212    8.61   197439   3543  8.745131          8.604276  \n",
              "728     8.55   197256   3175  8.749606          8.593846  \n",
              "3606    8.50   509109   7444  8.658248          8.591925  \n",
              "1662    8.54   363215   5957  8.669464          8.586947  \n",
              "2441    8.75    88995   1788  8.860738          8.586039  \n",
              "3161    8.52   254436   2753  8.759898          8.582107  \n",
              "4508    8.61   348951   4011  8.700823          8.579116  \n",
              "4560    9.25   114262    524  9.505725          8.576374  \n",
              "4363    8.62   184525   2442  8.773546          8.574466  \n",
              "2270    8.68   111074   2093  8.803631          8.571888  \n",
              "3399    8.61   192424   3270  8.714985          8.567266  \n",
              "3554    8.53   288376   3146  8.716465          8.563449  \n",
              "2564    8.64   139474   1484  8.882075          8.558989  "
            ]
          },
          "execution_count": 48,
          "metadata": {},
          "output_type": "execute_result"
        }
      ],
      "source": [
        "top_anime = filt_anime_stats.sort_values(by='weighted_average', ascending=False).head(50)\n",
        "top_anime"
      ]
    },
    {
      "cell_type": "markdown",
      "metadata": {},
      "source": [
        "choose 5 anime the user enjoys and add ratings for them into the ratings dataframe using the weighted average rating of the anime"
      ]
    },
    {
      "cell_type": "code",
      "execution_count": 49,
      "metadata": {},
      "outputs": [],
      "source": [
        "user_watched_ids = [5114, 11061, 30276, 1, 28891]\n",
        "\n",
        "for item in user_watched_ids:\n",
        "    rating = anime_stats[anime_stats['anime_id'] == item]['weighted_average'].values[0]\n",
        "    new_rating = {'user_id' : userID, 'anime_id' : item, 'rating' : rating}\n",
        "    filt_ratings.loc[len(filt_ratings)] = new_rating"
      ]
    },
    {
      "cell_type": "code",
      "execution_count": 50,
      "metadata": {},
      "outputs": [
        {
          "data": {
            "text/html": [
              "<div>\n",
              "<style scoped>\n",
              "    .dataframe tbody tr th:only-of-type {\n",
              "        vertical-align: middle;\n",
              "    }\n",
              "\n",
              "    .dataframe tbody tr th {\n",
              "        vertical-align: top;\n",
              "    }\n",
              "\n",
              "    .dataframe thead th {\n",
              "        text-align: right;\n",
              "    }\n",
              "</style>\n",
              "<table border=\"1\" class=\"dataframe\">\n",
              "  <thead>\n",
              "    <tr style=\"text-align: right;\">\n",
              "      <th></th>\n",
              "      <th>user_id</th>\n",
              "      <th>anime_id</th>\n",
              "      <th>rating</th>\n",
              "    </tr>\n",
              "  </thead>\n",
              "  <tbody>\n",
              "    <tr>\n",
              "      <th>3239519</th>\n",
              "      <td>73516</td>\n",
              "      <td>5114</td>\n",
              "      <td>9.291231</td>\n",
              "    </tr>\n",
              "    <tr>\n",
              "      <th>3239520</th>\n",
              "      <td>73516</td>\n",
              "      <td>11061</td>\n",
              "      <td>9.148877</td>\n",
              "    </tr>\n",
              "    <tr>\n",
              "      <th>3239521</th>\n",
              "      <td>73516</td>\n",
              "      <td>30276</td>\n",
              "      <td>8.888960</td>\n",
              "    </tr>\n",
              "    <tr>\n",
              "      <th>3239522</th>\n",
              "      <td>73516</td>\n",
              "      <td>1</td>\n",
              "      <td>8.827892</td>\n",
              "    </tr>\n",
              "    <tr>\n",
              "      <th>3239523</th>\n",
              "      <td>73516</td>\n",
              "      <td>28891</td>\n",
              "      <td>8.760377</td>\n",
              "    </tr>\n",
              "  </tbody>\n",
              "</table>\n",
              "</div>"
            ],
            "text/plain": [
              "         user_id  anime_id    rating\n",
              "3239519    73516      5114  9.291231\n",
              "3239520    73516     11061  9.148877\n",
              "3239521    73516     30276  8.888960\n",
              "3239522    73516         1  8.827892\n",
              "3239523    73516     28891  8.760377"
            ]
          },
          "execution_count": 50,
          "metadata": {},
          "output_type": "execute_result"
        }
      ],
      "source": [
        "filt_ratings.tail()"
      ]
    },
    {
      "cell_type": "markdown",
      "metadata": {},
      "source": [
        "retrain model with new user data added"
      ]
    },
    {
      "cell_type": "code",
      "execution_count": 51,
      "metadata": {},
      "outputs": [],
      "source": [
        "new_data = Dataset.load_from_df(filt_ratings, reader)"
      ]
    },
    {
      "cell_type": "code",
      "execution_count": 52,
      "metadata": {},
      "outputs": [],
      "source": [
        "train, test = train_test_split(new_data)"
      ]
    },
    {
      "cell_type": "code",
      "execution_count": 53,
      "metadata": {},
      "outputs": [],
      "source": [
        "sgd_model.fit(train)"
      ]
    },
    {
      "cell_type": "code",
      "execution_count": 54,
      "metadata": {},
      "outputs": [
        {
          "data": {
            "text/plain": [
              "<surprise.prediction_algorithms.knns.KNNBaseline at 0x1af8e2790>"
            ]
          },
          "execution_count": 54,
          "metadata": {},
          "output_type": "execute_result"
        }
      ],
      "source": [
        "knn_base_model.fit(train)"
      ]
    },
    {
      "cell_type": "code",
      "execution_count": 55,
      "metadata": {},
      "outputs": [
        {
          "data": {
            "text/plain": [
              "<surprise.prediction_algorithms.baseline_only.BaselineOnly at 0x1e678bb10>"
            ]
          },
          "execution_count": 55,
          "metadata": {},
          "output_type": "execute_result"
        }
      ],
      "source": [
        "als_model.fit(train)"
      ]
    },
    {
      "cell_type": "markdown",
      "metadata": {},
      "source": [
        "get the list of anime the user hasn't watched"
      ]
    },
    {
      "cell_type": "code",
      "execution_count": 56,
      "metadata": {},
      "outputs": [],
      "source": [
        "user_watched = filt_ratings[filt_ratings['user_id'] == userID].reset_index(drop=True)\n",
        "user_not_watched = list(anime[~anime['anime_id'].isin(user_watched['anime_id'])].reset_index(drop=True)['anime_id'])"
      ]
    },
    {
      "cell_type": "markdown",
      "metadata": {},
      "source": [
        "retrieve their top recommendations"
      ]
    },
    {
      "cell_type": "code",
      "execution_count": 83,
      "metadata": {},
      "outputs": [],
      "source": [
        "sgd_recs = getTopN(sgd_model, userID, user_not_watched, 25)\n",
        "knn_recs = getTopN(knn_base_model, userID, user_not_watched, 25)\n",
        "als_recs = getTopN(als_model, userID, user_not_watched, 25)"
      ]
    },
    {
      "cell_type": "code",
      "execution_count": 84,
      "metadata": {},
      "outputs": [
        {
          "name": "stdout",
          "output_type": "stream",
          "text": [
            "Ginga Eiyuu Densetsu\n",
            "Gintama°\n",
            "Haikyuu!!: Karasuno Koukou VS Shiratorizawa Gakuen Koukou\n",
            "Kimi no Na wa.\n",
            "Uchuu Kyoudai\n",
            "Gintama&#039;: Enchousen\n",
            "Gintama&#039;\n",
            "Gintama Movie: Kanketsu-hen - Yorozuya yo Eien Nare\n",
            "Ginga Eiyuu Densetsu: Arata Naru Tatakai no Overture\n",
            "Clannad: After Story\n",
            "Ginga Eiyuu Densetsu Gaiden: Senoku no Hoshi, Senoku no Hikari\n",
            "Uchuu Senkan Yamato 2199\n",
            "Gintama\n",
            "Shouwa Genroku Rakugo Shinjuu\n",
            "Mushishi Zoku Shou 2nd Season\n",
            "Ginga Eiyuu Densetsu Gaiden: Rasen Meikyuu\n",
            "Steins;Gate\n",
            "Aria The Origination: Sono Choppiri Himitsu no Basho ni...\n",
            "Ashita no Joe 2\n",
            "Mushishi Zoku Shou: Suzu no Shizuku\n",
            "Rainbow: Nisha Rokubou no Shichinin\n",
            "Shigatsu wa Kimi no Uso\n",
            "Hajime no Ippo: Rising\n",
            "Kingdom 2nd Season\n",
            "Ginga Eiyuu Densetsu: Waga Yuku wa Hoshi no Taikai\n"
          ]
        }
      ],
      "source": [
        "for rec in sgd_recs:\n",
        "    title = anime[anime['anime_id'] == rec]['name'].values[0]\n",
        "    print(title)"
      ]
    },
    {
      "cell_type": "code",
      "execution_count": 85,
      "metadata": {},
      "outputs": [
        {
          "name": "stdout",
          "output_type": "stream",
          "text": [
            "Ginga Eiyuu Densetsu\n",
            "Ashita no Joe 2\n",
            "Yojouhan Shinwa Taikei\n",
            "Gintama&#039;: Enchousen\n",
            "Gintama°\n",
            "Gintama&#039;\n",
            "Kimi no Na wa.\n",
            "Gintama Movie: Kanketsu-hen - Yorozuya yo Eien Nare\n",
            "Aria The Origination: Sono Choppiri Himitsu no Basho ni...\n",
            "Haikyuu!!: Karasuno Koukou VS Shiratorizawa Gakuen Koukou\n",
            "Monster\n",
            "Hanada Shounen-shi\n",
            "Ping Pong The Animation\n",
            "Uchuu Kyoudai\n",
            "Gintama\n",
            "Kaiba\n",
            "Mushishi Zoku Shou 2nd Season\n",
            "Steins;Gate\n",
            "Mushishi Zoku Shou\n",
            "Ginga Eiyuu Densetsu Gaiden: Senoku no Hoshi, Senoku no Hikari\n",
            "Tengen Toppa Gurren Lagann Movie: Lagann-hen\n",
            "Clannad: After Story\n",
            "Shouwa Genroku Rakugo Shinjuu\n",
            "Ginga Eiyuu Densetsu Gaiden: Rasen Meikyuu\n",
            "Shoujo Kakumei Utena\n"
          ]
        }
      ],
      "source": [
        "for rec in knn_recs:\n",
        "    title = anime[anime['anime_id'] == rec]['name'].values[0]\n",
        "    print(title)"
      ]
    },
    {
      "cell_type": "code",
      "execution_count": 86,
      "metadata": {},
      "outputs": [
        {
          "name": "stdout",
          "output_type": "stream",
          "text": [
            "Ginga Eiyuu Densetsu\n",
            "Gintama°\n",
            "Kimi no Na wa.\n",
            "Gintama&#039;\n",
            "Gintama&#039;: Enchousen\n",
            "Yojouhan Shinwa Taikei\n",
            "Steins;Gate\n",
            "Haikyuu!!: Karasuno Koukou VS Shiratorizawa Gakuen Koukou\n",
            "Mushishi Zoku Shou 2nd Season\n",
            "Ping Pong The Animation\n",
            "Gintama Movie: Kanketsu-hen - Yorozuya yo Eien Nare\n",
            "Gintama\n",
            "Uchuu Kyoudai\n",
            "Mushishi Zoku Shou\n",
            "Monster\n",
            "Shouwa Genroku Rakugo Shinjuu\n",
            "Ashita no Joe 2\n",
            "Mushishi\n",
            "Mushishi Zoku Shou: Suzu no Shizuku\n",
            "Ginga Eiyuu Densetsu Gaiden: Senoku no Hoshi, Senoku no Hikari\n",
            "Clannad: After Story\n",
            "Shigatsu wa Kimi no Uso\n",
            "Code Geass: Hangyaku no Lelouch R2\n",
            "Rainbow: Nisha Rokubou no Shichinin\n",
            "Ginga Eiyuu Densetsu: Arata Naru Tatakai no Overture\n"
          ]
        }
      ],
      "source": [
        "for rec in als_recs:\n",
        "    title = anime[anime['anime_id'] == rec]['name'].values[0]\n",
        "    print(title)"
      ]
    },
    {
      "cell_type": "markdown",
      "metadata": {},
      "source": [
        "# Item-Based Model"
      ]
    },
    {
      "cell_type": "code",
      "execution_count": 61,
      "metadata": {},
      "outputs": [],
      "source": [
        "user_item_df = filt_ratings.pivot_table(index='anime_id',columns='user_id',values='rating').fillna(0)"
      ]
    },
    {
      "cell_type": "code",
      "execution_count": 62,
      "metadata": {},
      "outputs": [],
      "source": [
        "from scipy.sparse import csr_matrix # To convert pivot table to array matrix\n",
        "user_item_matrix = csr_matrix(user_item_df.values)"
      ]
    },
    {
      "cell_type": "code",
      "execution_count": 63,
      "metadata": {},
      "outputs": [
        {
          "data": {
            "text/html": [
              "<style>#sk-container-id-1 {color: black;}#sk-container-id-1 pre{padding: 0;}#sk-container-id-1 div.sk-toggleable {background-color: white;}#sk-container-id-1 label.sk-toggleable__label {cursor: pointer;display: block;width: 100%;margin-bottom: 0;padding: 0.3em;box-sizing: border-box;text-align: center;}#sk-container-id-1 label.sk-toggleable__label-arrow:before {content: \"▸\";float: left;margin-right: 0.25em;color: #696969;}#sk-container-id-1 label.sk-toggleable__label-arrow:hover:before {color: black;}#sk-container-id-1 div.sk-estimator:hover label.sk-toggleable__label-arrow:before {color: black;}#sk-container-id-1 div.sk-toggleable__content {max-height: 0;max-width: 0;overflow: hidden;text-align: left;background-color: #f0f8ff;}#sk-container-id-1 div.sk-toggleable__content pre {margin: 0.2em;color: black;border-radius: 0.25em;background-color: #f0f8ff;}#sk-container-id-1 input.sk-toggleable__control:checked~div.sk-toggleable__content {max-height: 200px;max-width: 100%;overflow: auto;}#sk-container-id-1 input.sk-toggleable__control:checked~label.sk-toggleable__label-arrow:before {content: \"▾\";}#sk-container-id-1 div.sk-estimator input.sk-toggleable__control:checked~label.sk-toggleable__label {background-color: #d4ebff;}#sk-container-id-1 div.sk-label input.sk-toggleable__control:checked~label.sk-toggleable__label {background-color: #d4ebff;}#sk-container-id-1 input.sk-hidden--visually {border: 0;clip: rect(1px 1px 1px 1px);clip: rect(1px, 1px, 1px, 1px);height: 1px;margin: -1px;overflow: hidden;padding: 0;position: absolute;width: 1px;}#sk-container-id-1 div.sk-estimator {font-family: monospace;background-color: #f0f8ff;border: 1px dotted black;border-radius: 0.25em;box-sizing: border-box;margin-bottom: 0.5em;}#sk-container-id-1 div.sk-estimator:hover {background-color: #d4ebff;}#sk-container-id-1 div.sk-parallel-item::after {content: \"\";width: 100%;border-bottom: 1px solid gray;flex-grow: 1;}#sk-container-id-1 div.sk-label:hover label.sk-toggleable__label {background-color: #d4ebff;}#sk-container-id-1 div.sk-serial::before {content: \"\";position: absolute;border-left: 1px solid gray;box-sizing: border-box;top: 0;bottom: 0;left: 50%;z-index: 0;}#sk-container-id-1 div.sk-serial {display: flex;flex-direction: column;align-items: center;background-color: white;padding-right: 0.2em;padding-left: 0.2em;position: relative;}#sk-container-id-1 div.sk-item {position: relative;z-index: 1;}#sk-container-id-1 div.sk-parallel {display: flex;align-items: stretch;justify-content: center;background-color: white;position: relative;}#sk-container-id-1 div.sk-item::before, #sk-container-id-1 div.sk-parallel-item::before {content: \"\";position: absolute;border-left: 1px solid gray;box-sizing: border-box;top: 0;bottom: 0;left: 50%;z-index: -1;}#sk-container-id-1 div.sk-parallel-item {display: flex;flex-direction: column;z-index: 1;position: relative;background-color: white;}#sk-container-id-1 div.sk-parallel-item:first-child::after {align-self: flex-end;width: 50%;}#sk-container-id-1 div.sk-parallel-item:last-child::after {align-self: flex-start;width: 50%;}#sk-container-id-1 div.sk-parallel-item:only-child::after {width: 0;}#sk-container-id-1 div.sk-dashed-wrapped {border: 1px dashed gray;margin: 0 0.4em 0.5em 0.4em;box-sizing: border-box;padding-bottom: 0.4em;background-color: white;}#sk-container-id-1 div.sk-label label {font-family: monospace;font-weight: bold;display: inline-block;line-height: 1.2em;}#sk-container-id-1 div.sk-label-container {text-align: center;}#sk-container-id-1 div.sk-container {/* jupyter's `normalize.less` sets `[hidden] { display: none; }` but bootstrap.min.css set `[hidden] { display: none !important; }` so we also need the `!important` here to be able to override the default hidden behavior on the sphinx rendered scikit-learn.org. See: https://github.com/scikit-learn/scikit-learn/issues/21755 */display: inline-block !important;position: relative;}#sk-container-id-1 div.sk-text-repr-fallback {display: none;}</style><div id=\"sk-container-id-1\" class=\"sk-top-container\"><div class=\"sk-text-repr-fallback\"><pre>NearestNeighbors(algorithm=&#x27;brute&#x27;, metric=&#x27;cosine&#x27;)</pre><b>In a Jupyter environment, please rerun this cell to show the HTML representation or trust the notebook. <br />On GitHub, the HTML representation is unable to render, please try loading this page with nbviewer.org.</b></div><div class=\"sk-container\" hidden><div class=\"sk-item\"><div class=\"sk-estimator sk-toggleable\"><input class=\"sk-toggleable__control sk-hidden--visually\" id=\"sk-estimator-id-1\" type=\"checkbox\" checked><label for=\"sk-estimator-id-1\" class=\"sk-toggleable__label sk-toggleable__label-arrow\">NearestNeighbors</label><div class=\"sk-toggleable__content\"><pre>NearestNeighbors(algorithm=&#x27;brute&#x27;, metric=&#x27;cosine&#x27;)</pre></div></div></div></div></div>"
            ],
            "text/plain": [
              "NearestNeighbors(algorithm='brute', metric='cosine')"
            ]
          },
          "execution_count": 63,
          "metadata": {},
          "output_type": "execute_result"
        }
      ],
      "source": [
        "from sklearn.neighbors import NearestNeighbors\n",
        "\n",
        "model_knn = NearestNeighbors(metric = 'cosine', algorithm = 'brute')\n",
        "model_knn.fit(user_item_df)"
      ]
    },
    {
      "cell_type": "code",
      "execution_count": 64,
      "metadata": {},
      "outputs": [],
      "source": [
        "import pickle\n",
        "\n",
        "pickle.dump(model_knn, open(knn_model_path, 'wb'))"
      ]
    },
    {
      "cell_type": "code",
      "execution_count": 65,
      "metadata": {},
      "outputs": [
        {
          "name": "stdout",
          "output_type": "stream",
          "text": [
            "1287\n"
          ]
        }
      ],
      "source": [
        "query_index = np.random.choice(user_item_df.shape[0])\n",
        "print(query_index)\n",
        "distances, indices = model_knn.kneighbors(user_item_df.iloc[query_index,:].values.reshape(1,-1), n_neighbors=11)"
      ]
    },
    {
      "cell_type": "code",
      "execution_count": 66,
      "metadata": {},
      "outputs": [
        {
          "name": "stdout",
          "output_type": "stream",
          "text": [
            "Recommendations for Super Robot Taisen OG: Divine Wars:\n",
            "\n",
            "1: Super Robot Taisen OG: The Inspector, with distance of 0.4697485473505596:\n",
            "2: Super Robot Taisen OG The Animation, with distance of 0.5460525172617519:\n",
            "3: Mazinkaiser, with distance of 0.8534008807274591:\n",
            "4: Mobile Suit Gundam: Char&#039;s Counterattack, with distance of 0.8544381433538981:\n",
            "5: Mobile Suit Gundam F91, with distance of 0.8568776182624167:\n",
            "6: Turn A Gundam, with distance of 0.8624355274600279:\n",
            "7: After War Gundam X, with distance of 0.8685759056621069:\n",
            "8: Mazinkaiser: Shitou! Ankoku Dai Shogun, with distance of 0.8711359310560138:\n",
            "9: Gundam Evolve, with distance of 0.8755965995085855:\n",
            "10: Mobile Suit Gundam Seed MSV Astray, with distance of 0.8761701359146089:\n"
          ]
        }
      ],
      "source": [
        "for i in range(0, len(distances.flatten())):\n",
        "    if i == 0:\n",
        "        print('Recommendations for {0}:\\n'.format(anime['name'].loc[anime['anime_id'] == user_item_df.index[query_index]].values[0]))\n",
        "    else:\n",
        "        print('{0}: {1}, with distance of {2}:'.format(i, anime['name'].loc[anime['anime_id'] == user_item_df.index[indices.flatten()[i]]].values[0], distances.flatten()[i]))"
      ]
    },
    {
      "cell_type": "markdown",
      "metadata": {},
      "source": [
        "# Content Based Cold Start"
      ]
    },
    {
      "cell_type": "code",
      "execution_count": 67,
      "metadata": {},
      "outputs": [],
      "source": [
        "from sklearn.metrics.pairwise import cosine_similarity"
      ]
    },
    {
      "cell_type": "code",
      "execution_count": 68,
      "metadata": {},
      "outputs": [],
      "source": [
        "similarity = cosine_similarity(anime_features)"
      ]
    },
    {
      "cell_type": "code",
      "execution_count": 69,
      "metadata": {},
      "outputs": [],
      "source": [
        "from fuzzywuzzy import process\n",
        "\n",
        "def movie_finder(title):\n",
        "    all_titles = anime['name'].tolist()\n",
        "    closest_match = process.extractOne(title,all_titles)\n",
        "    return closest_match[0]"
      ]
    },
    {
      "cell_type": "code",
      "execution_count": 70,
      "metadata": {},
      "outputs": [],
      "source": [
        "def getContentRecs(title, num_recs=10):\n",
        "  idx = anime[anime['name'] == title].index[0]\n",
        "  sim_scores = list(enumerate(similarity[idx]))\n",
        "  sim_scores = sorted(sim_scores, key=lambda x: x[1], reverse=True)\n",
        "  anime_idx = [i[0] for i in sim_scores[1:num_recs+1]]\n",
        "  return anime['name'].iloc[anime_idx]"
      ]
    },
    {
      "cell_type": "code",
      "execution_count": 71,
      "metadata": {},
      "outputs": [],
      "source": [
        "user_input = 'Naruto'\n",
        "title = movie_finder(user_input)"
      ]
    },
    {
      "cell_type": "code",
      "execution_count": 72,
      "metadata": {},
      "outputs": [
        {
          "name": "stdout",
          "output_type": "stream",
          "text": [
            "1574         Naruto: Shippuuden\n",
            "1460     Katekyo Hitman Reborn!\n",
            "151                Tenjou Tenge\n",
            "734               Dragon Ball Z\n",
            "4429            Dragon Ball Kai\n",
            "6626                 Medaka Box\n",
            "7157        Medaka Box Abnormal\n",
            "8785     Dragon Ball Kai (2014)\n",
            "10601         Dragon Ball Super\n",
            "214              Rekka no Honoo\n",
            "Name: name, dtype: object\n"
          ]
        }
      ],
      "source": [
        "print(getContentRecs(title))"
      ]
    },
    {
      "cell_type": "markdown",
      "metadata": {},
      "source": [
        "# Experiment"
      ]
    },
    {
      "cell_type": "code",
      "execution_count": 87,
      "metadata": {},
      "outputs": [],
      "source": [
        "def calculate_diversity(recs):\n",
        "    recommended_anime_vectors = anime_features.loc[recs]\n",
        "    similarity_matrix = cosine_similarity(recommended_anime_vectors, recommended_anime_vectors)\n",
        "    n = len(recs)\n",
        "    diversity = (np.sum(similarity_matrix) - n) / (n * (n - 1))\n",
        "    \n",
        "    return diversity"
      ]
    },
    {
      "cell_type": "code",
      "execution_count": 88,
      "metadata": {},
      "outputs": [],
      "source": [
        "popularity_df = ratings.groupby('anime_id').size().reset_index(name='num_ratings')\n",
        "popularity_df = popularity_df.merge(anime[['anime_id', 'name']], on='anime_id')  # Merge with anime DataFrame to get anime names\n",
        "popularity_df = popularity_df.sort_values(by='num_ratings', ascending=False)"
      ]
    },
    {
      "cell_type": "code",
      "execution_count": 89,
      "metadata": {},
      "outputs": [],
      "source": [
        "def calculate_novelty(recs, popularity_df):\n",
        "    mean_popularity = popularity_df[popularity_df['anime_id'].isin(recs)]['num_ratings'].mean()\n",
        "    novelty_score = 1 - (mean_popularity / popularity_df['num_ratings'].max())  # Adjust as needed \n",
        "    return novelty_score"
      ]
    },
    {
      "cell_type": "code",
      "execution_count": 90,
      "metadata": {},
      "outputs": [
        {
          "name": "stdout",
          "output_type": "stream",
          "text": [
            "SGD Model diversity: 0.264\n",
            "KNN Model diversity: 0.239\n",
            "ALS Model diversity: 0.264\n"
          ]
        }
      ],
      "source": [
        "sgd_div = calculate_diversity(sgd_recs)\n",
        "knn_div = calculate_diversity(knn_recs)\n",
        "als_div = calculate_diversity(als_recs)\n",
        "\n",
        "print(f\"SGD Model diversity: {sgd_div:.3f}\")\n",
        "print(f\"KNN Model diversity: {knn_div:.3f}\")\n",
        "print(f\"ALS Model diversity: {als_div:.3f}\")"
      ]
    },
    {
      "cell_type": "code",
      "execution_count": 92,
      "metadata": {},
      "outputs": [
        {
          "name": "stdout",
          "output_type": "stream",
          "text": [
            "SGD Model novelty: 0.919\n",
            "KNN Model novelty: 0.920\n",
            "ALS Model novelty: 0.881\n"
          ]
        }
      ],
      "source": [
        "sgd_nov = calculate_novelty(sgd_recs, popularity_df)\n",
        "knn_nov = calculate_novelty(knn_recs, popularity_df)\n",
        "als_nov = calculate_novelty(als_recs, popularity_df)\n",
        "\n",
        "print(f\"SGD Model novelty: {sgd_nov:.3f}\")\n",
        "print(f\"KNN Model novelty: {knn_nov:.3f}\")\n",
        "print(f\"ALS Model novelty: {als_nov:.3f}\")"
      ]
    },
    {
      "cell_type": "code",
      "execution_count": 93,
      "metadata": {},
      "outputs": [],
      "source": [
        "models = ['SGD', 'KNN', 'ALS']\n",
        "\n",
        "diversity_scores = [sgd_div, knn_div, als_div]\n",
        "novelty_scores = [sgd_nov, knn_nov, als_nov]"
      ]
    },
    {
      "cell_type": "code",
      "execution_count": 94,
      "metadata": {},
      "outputs": [
        {
          "data": {
            "image/png": "[encoded data removed]",
            "text/plain": [
              "<Figure size 1000x600 with 1 Axes>"
            ]
          },
          "metadata": {},
          "output_type": "display_data"
        }
      ],
      "source": [
        "fig, ax = plt.subplots(figsize=(10, 6))\n",
        "\n",
        "bar_width = 0.35\n",
        "index = range(len(models))\n",
        "\n",
        "bar1 = ax.bar(index, novelty_scores, bar_width, label='Novelty')\n",
        "bar2 = ax.bar([i + bar_width for i in index], diversity_scores, bar_width, label='Diversity')\n",
        "\n",
        "ax.set_xlabel('Models')\n",
        "ax.set_ylabel('Scores')\n",
        "ax.set_title('Novelty and Diversity Scores for Different Models')\n",
        "ax.set_xticks([i + bar_width / 2 for i in index])\n",
        "ax.set_xticklabels(models)\n",
        "ax.legend()\n",
        "\n",
        "plt.xticks(rotation=45)  # Rotate x-axis labels for better readability\n",
        "plt.tight_layout()\n",
        "plt.show()"
      ]
    }
  ],
  "metadata": {
    "accelerator": "GPU",
    "colab": {
      "gpuType": "V100",
      "machine_shape": "hm",
      "provenance": []
    },
    "kernelspec": {
      "display_name": "Python 3",
      "name": "python3"
    },
    "language_info": {
      "codemirror_mode": {
        "name": "ipython",
        "version": 3
      },
      "file_extension": ".py",
      "mimetype": "text/x-python",
      "name": "python",
      "nbconvert_exporter": "python",
      "pygments_lexer": "ipython3",
      "version": "3.11.4"
    }
  },
  "nbformat": 4,
  "nbformat_minor": 0
}
